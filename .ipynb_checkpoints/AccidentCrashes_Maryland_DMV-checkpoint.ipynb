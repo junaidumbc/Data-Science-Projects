{
 "cells": [
  {
   "cell_type": "markdown",
   "id": "Wl9dxbyrjGEY",
   "metadata": {
    "id": "Wl9dxbyrjGEY"
   },
   "source": [
    "##**Weather's Dangerous Impact on Accidents in Maryland**\n",
    "\n",
    "\n",
    "\n"
   ]
  },
  {
   "cell_type": "markdown",
   "id": "Y6IAGiZ_37im",
   "metadata": {
    "id": "Y6IAGiZ_37im"
   },
   "source": [
    "# **Data Preprocessing**"
   ]
  },
  {
   "cell_type": "markdown",
   "id": "cm74tCtS1aqm",
   "metadata": {
    "id": "cm74tCtS1aqm"
   },
   "source": [
    "##**Importing Libraries**"
   ]
  },
  {
   "cell_type": "code",
   "execution_count": 1,
   "id": "f62f2850",
   "metadata": {
    "id": "f62f2850"
   },
   "outputs": [],
   "source": [
    "#Data Manipulation\n",
    "import pandas as pd\n",
    "#Artithmetic Calculations\n",
    "import numpy as np\n",
    "#Data Visualization\n",
    "import seaborn as sns\n",
    "import matplotlib.pyplot as plt\n",
    "\n",
    "#Display all Columns \n",
    "pd.pandas.set_option('display.max_columns',None)\n",
    "#Display all Rows\n",
    "pd.pandas.set_option('display.max_rows',None)\n",
    "#Ignore warnings\n",
    "import warnings\n",
    "warnings.filterwarnings(\"ignore\")\n"
   ]
  },
  {
   "cell_type": "markdown",
   "id": "6340a4c7",
   "metadata": {
    "id": "6c6105a9"
   },
   "source": [
    "##**Loading DataSets**"
   ]
  },
  {
   "cell_type": "code",
   "execution_count": 2,
   "id": "87e68d30",
   "metadata": {
    "id": "87e68d30"
   },
   "outputs": [],
   "source": [
    "VehicleCrashes_df = pd.read_csv(\"https://media.githubusercontent.com/media/kwrigh8176/DATA601DATA/main/Maryland_Statewide_Vehicle_Crashes.csv\",low_memory=False)\n",
    "\n",
    "PersonalDetails_df = pd.read_csv(\"https://media.githubusercontent.com/media/kwrigh8176/DATA601DATA/main/Maryland_Statewide_Vehicle_Crashes_-_Person_Details__Anonymized.csv\",low_memory=False)\n",
    "\n",
    "VehicleDetails_df =  pd.read_csv(\"https://media.githubusercontent.com/media/kwrigh8176/DATA601DATA/main/Maryland_Statewide_Vehicle_Crashes_-_Vehicle_Details.csv\",low_memory=False)\n"
   ]
  },
  {
   "cell_type": "code",
   "execution_count": 3,
   "id": "be4ab629",
   "metadata": {
    "colab": {
     "base_uri": "https://localhost:8080/"
    },
    "id": "be4ab629",
    "outputId": "4287700c-6051-4531-8cc3-c37bbe639c59"
   },
   "outputs": [
    {
     "name": "stdout",
     "output_type": "stream",
     "text": [
      "Shape of VehicleCrashes_df  :  (742925, 56)\n",
      "Shape of PersonalDetails_df :  (1664889, 48)\n",
      "Shape of VehicleDetails_df  :  (1386222, 49)\n"
     ]
    }
   ],
   "source": [
    "print(f\"Shape of VehicleCrashes_df  : \",VehicleCrashes_df.shape)\n",
    "print(f\"Shape of PersonalDetails_df : \",PersonalDetails_df.shape)\n",
    "print(f\"Shape of VehicleDetails_df  : \",VehicleDetails_df.shape)"
   ]
  },
  {
   "cell_type": "markdown",
   "id": "nfuFfyYnx6_o",
   "metadata": {
    "id": "nfuFfyYnx6_o"
   },
   "source": [
    "##These are the three Data sets we will be working which contains Records of the year 2020 and 2021\n",
    "Filtering the years 2020 and 2021 patterns from all the datasets to understand the pattern of crashes, causes and reasons of crashes"
   ]
  },
  {
   "cell_type": "code",
   "execution_count": 4,
   "id": "IpX6aCYTxlp_",
   "metadata": {
    "id": "IpX6aCYTxlp_"
   },
   "outputs": [],
   "source": [
    "#It takes only those rows which have 2020 and 2021 in column 'YEAR'\n",
    "#Filtering based on the years 2020 and 2021\n",
    "VehicleCrashes = VehicleCrashes_df[VehicleCrashes_df['YEAR'].isin([2020,2021])]  \n",
    "\n",
    "PersonalDetails = PersonalDetails_df[PersonalDetails_df['YEAR'].isin([2020,2021])]\n",
    "\n",
    "VehicleDetails = VehicleDetails_df[VehicleDetails_df['YEAR'].isin([2020,2021])]"
   ]
  },
  {
   "cell_type": "markdown",
   "id": "6liSf8m_boqK",
   "metadata": {
    "id": "6liSf8m_boqK"
   },
   "source": [
    "Printing the shape of the datasets after extracting only 2020 and 2021 data"
   ]
  },
  {
   "cell_type": "code",
   "execution_count": 5,
   "id": "2thS9FC2xlxG",
   "metadata": {
    "colab": {
     "base_uri": "https://localhost:8080/"
    },
    "id": "2thS9FC2xlxG",
    "outputId": "c2994677-c898-4036-a90e-c06139e46e7c"
   },
   "outputs": [
    {
     "name": "stdout",
     "output_type": "stream",
     "text": [
      "Shape of VehicleCrashes  :  (171577, 56)\n",
      "Shape of PersonalDetails :  (372049, 48)\n",
      "Shape of VehicleDetails  :  (316389, 49)\n"
     ]
    }
   ],
   "source": [
    "print(f\"Shape of VehicleCrashes  : \",VehicleCrashes.shape)\n",
    "print(f\"Shape of PersonalDetails : \",PersonalDetails.shape)\n",
    "print(f\"Shape of VehicleDetails  : \",VehicleDetails.shape)"
   ]
  },
  {
   "cell_type": "markdown",
   "id": "PMDF7gEkb0Pw",
   "metadata": {
    "id": "PMDF7gEkb0Pw"
   },
   "source": [
    "##Checking for the null values in the datasets of 2020 and 2021"
   ]
  },
  {
   "cell_type": "code",
   "execution_count": 6,
   "id": "4WondFEdJt5L",
   "metadata": {
    "colab": {
     "base_uri": "https://localhost:8080/"
    },
    "id": "4WondFEdJt5L",
    "outputId": "51ba38b6-b47e-4bf1-f746-939d5bb8dfa8"
   },
   "outputs": [],
   "source": [
    "#print(VehicleCrashes.isnull().sum())\n",
    "#print(\"==================================================\")\n",
    "#print(PersonalDetails.isnull().sum())\n",
    "\n",
    "#print(\"==================================================\")\n",
    "#print(VehicleDetails.isnull().sum())"
   ]
  },
  {
   "cell_type": "markdown",
   "id": "59a45331",
   "metadata": {
    "id": "59a45331"
   },
   "source": [
    "\n",
    "## Capitalising column names from all datasets"
   ]
  },
  {
   "cell_type": "markdown",
   "id": "1JoVNhdNvW4N",
   "metadata": {
    "id": "1JoVNhdNvW4N"
   },
   "source": [
    "*  After exploring we come to know that,Every Column in all Three Data Sets is in CAPITAL Except 'Quarter' is small in PersonalDetails and VehicleDetails Data Sets. \n",
    "*   To simplify and to avoid any case sensitive and syntax issues we will be capitalizing all the columns to capitals\n",
    "*   So we will Capitalize only Quarter Column"
   ]
  },
  {
   "cell_type": "code",
   "execution_count": 7,
   "id": "NmL58tg7vO0b",
   "metadata": {
    "id": "NmL58tg7vO0b"
   },
   "outputs": [],
   "source": [
    "PersonalDetails = PersonalDetails.rename({'Quarter':'QUARTER'},axis = 1)\n",
    "VehicleDetails = VehicleDetails.rename({'Quarter':'QUARTER'},axis =1)\n"
   ]
  },
  {
   "cell_type": "markdown",
   "id": "_4NsJGPXv6mO",
   "metadata": {
    "id": "_4NsJGPXv6mO"
   },
   "source": [
    "## Checking Common Columns"
   ]
  },
  {
   "cell_type": "code",
   "execution_count": 8,
   "id": "jZN7KIjjXLOf",
   "metadata": {
    "colab": {
     "base_uri": "https://localhost:8080/"
    },
    "id": "jZN7KIjjXLOf",
    "outputId": "e58775a3-68bd-419e-b369-c927ab345aa6"
   },
   "outputs": [
    {
     "name": "stdout",
     "output_type": "stream",
     "text": [
      "Common Columns of VehicleCrashes  and PersonalDetails Data Set: \n",
      "\n",
      "\t YEAR\n",
      "\t QUARTER\n",
      "\t REPORT_NO\n",
      "\n",
      "Common Columns of  VehicleCrashes and VehicleDetails Data Set: \n",
      "\n",
      "\t YEAR\n",
      "\t QUARTER\n",
      "\t REPORT_NO\n",
      "\n",
      "Common Columns of PersonalDetails and VehicleDetails Data Set: \n",
      "\n",
      "\t MOVEMENT_DESC\n",
      "\t MOVEMENT_CODE\n",
      "\t REPORT_NO\n",
      "\t VEHICLE_ID\n",
      "\t YEAR\n",
      "\t QUARTER\n"
     ]
    }
   ],
   "source": [
    "def VehicleCrasheandPersonalDetails():\n",
    "  print('Common Columns of VehicleCrashes  and PersonalDetails Data Set: \\n')\n",
    "  for i in VehicleCrashes.columns:\n",
    "    for j in PersonalDetails.columns:\n",
    "            if i == j:\n",
    "                print(\"\\t\",i)\n",
    "                \n",
    "\n",
    "def VehicleCrashesandVehicleDetails():\n",
    "  print(\"\\nCommon Columns of  VehicleCrashes and VehicleDetails Data Set: \\n\")\n",
    "  for i in VehicleCrashes.columns:\n",
    "    for j in VehicleDetails.columns:\n",
    "        if i == j:\n",
    "            print(\"\\t\",i)\n",
    "            \n",
    "\n",
    "def PersonalDetailsandVehicleDetails():\n",
    "  print(\"\\nCommon Columns of PersonalDetails and VehicleDetails Data Set: \\n\")\n",
    "  for i in VehicleDetails.columns:\n",
    "          for j in PersonalDetails.columns:\n",
    "              if i == j:\n",
    "                  print(\"\\t\",i)\n",
    "                  \n",
    "            \n",
    "VehicleCrasheandPersonalDetails()\n",
    "VehicleCrashesandVehicleDetails()\n",
    "PersonalDetailsandVehicleDetails()\n"
   ]
  },
  {
   "cell_type": "markdown",
   "id": "xJbDmrut3oD4",
   "metadata": {
    "id": "xJbDmrut3oD4"
   },
   "source": [
    "### Getting the Overview of Each Columns from every Data Sets, So that we can perform our Data Analysis Effectively"
   ]
  },
  {
   "cell_type": "code",
   "execution_count": 9,
   "id": "i4bfinfgvlZZ",
   "metadata": {
    "colab": {
     "base_uri": "https://localhost:8080/"
    },
    "id": "i4bfinfgvlZZ",
    "outputId": "d91a5f98-74de-4347-b2a8-fab02c1d0163"
   },
   "outputs": [
    {
     "name": "stdout",
     "output_type": "stream",
     "text": [
      "(VehicleCrashes DataSet)\n",
      " Index(['YEAR', 'QUARTER', 'LIGHT_DESC', 'LIGHT_CODE', 'COUNTY_DESC',\n",
      "       'COUNTY_NO', 'MUNI_DESC', 'MUNI_CODE', 'JUNCTION_DESC', 'JUNCTION_CODE',\n",
      "       'COLLISION_TYPE_DESC', 'COLLISION_TYPE_CODE', 'SURF_COND_DESC',\n",
      "       'SURF_COND_CODE', 'LANE_DESC', 'LANE_CODE', 'RD_COND_DESC',\n",
      "       'RD_COND_CODE', 'RD_DIV_DESC', 'RD_DIV_CODE', 'FIX_OBJ_DESC',\n",
      "       'FIX_OBJ_CODE', 'REPORT_NO', 'REPORT_TYPE', 'WEATHER_DESC',\n",
      "       'WEATHER_CODE', 'ACC_DATE', 'ACC_TIME', 'LOC_CODE', 'SIGNAL_FLAG_DESC',\n",
      "       'SIGNAL_FLAG', 'C_M_ZONE_FLAG', 'AGENCY_CODE', 'AREA_CODE',\n",
      "       'HARM_EVENT_DESC1', 'HARM_EVENT_CODE1', 'HARM_EVENT_DESC2',\n",
      "       'HARM_EVENT_CODE2', 'RTE_NO', 'ROUTE_TYPE_CODE', 'RTE_SUFFIX',\n",
      "       'LOG_MILE', 'LOGMILE_DIR_FLAG_DESC', 'LOGMILE_DIR_FLAG',\n",
      "       'MAINROAD_NAME', 'DISTANCE', 'FEET_MILES_FLAG_DESC', 'FEET_MILES_FLAG',\n",
      "       'DISTANCE_DIR_FLAG', 'REFERENCE_NO', 'REFERENCE_TYPE_CODE',\n",
      "       'REFERENCE_SUFFIX', 'REFERENCE_ROAD_NAME', 'LATITUDE', 'LONGITUDE',\n",
      "       'LOCATION'],\n",
      "      dtype='object')\n",
      "===============================================================================\n",
      "\n",
      "(PersonalDetails DataSet)\n",
      " Index(['SEX_DESC', 'SEX_CODE', 'CONDITION_DESC', 'CONDITION_CODE',\n",
      "       'INJ_SEVER_DESC', 'INJ_SEVER_CODE', 'REPORT_NO', 'OCC_SEAT_POS_DESC',\n",
      "       'OCC_SEAT_POS_CODE', 'PED_VISIBLE_DESC', 'PED_VISIBLE_CODE',\n",
      "       'PED_OBEY_DESC', 'PED_OBEY_CODE', 'PED_TYPE_DESC', 'PED_TYPE_CODE',\n",
      "       'PED_LOCATION_CODE', 'MOVEMENT_DESC', 'MOVEMENT_CODE',\n",
      "       'PERSON_TYPE_DESC', 'PERSON_TYPE', 'ALCOHOL_TEST_DESC',\n",
      "       'ALCOHOL_TEST_CODE', 'ALCOHOL_TESTTYPE_DESC', 'ALCOHOL_TESTTYPE_CODE',\n",
      "       'DRUG_TEST_DESC', 'DRUG_TEST_CODE', 'DRUG_TESTRESULT_DESC',\n",
      "       'DRUG_TESTRESULT_CODE', 'BAC_CODE', 'FAULT_FLAG_DESC', 'FAULT_FLAG',\n",
      "       'EQUIP_PROB_DESC', 'EQUIP_PROB_CODE', 'SAF_EQUIP_DESC',\n",
      "       'SAF_EQUIP_CODE', 'EJECT_DESC', 'EJECT_CODE', 'DATE_OF_BIRTH',\n",
      "       'PERSON_ID', 'LICENSE_STATE_CODE', 'CLASS', 'CDL_FLAG_DESC', 'CDL_FLAG',\n",
      "       'VEHICLE_ID', 'EMS_UNIT_LABEL', 'AIRBAG_DEPLOYED', 'YEAR', 'QUARTER'],\n",
      "      dtype='object')\n",
      "===============================================================================\n",
      "\n",
      "(VehicleDetails DataSet)\n",
      " Index(['HARM_EVENT_DESC', 'HARM_EVENT_CODE', 'CONTI_DIRECTION_DESC',\n",
      "       'CONTI_DIRECTION_CODE', 'DAMAGE_DESC', 'DAMAGE_CODE', 'MOVEMENT_DESC',\n",
      "       'MOVEMENT_CODE', 'VIN_NO', 'REPORT_NO', 'CV_BODY_TYPE_DESC',\n",
      "       'CV_BODY_TYPE_CODE', 'VEH_YEAR', 'VEH_MAKE', 'VEH_MODEL',\n",
      "       'COMMERCIAL_FLAG_DESC', 'COMMERCIAL_FLAG', 'HZM_NUM',\n",
      "       'TOWED_AWAY_FLAG_DESC', 'TOWED_AWAY_FLAG', 'NUM_AXLES', 'GVW_DESC',\n",
      "       'GVW_CODE', 'GOING_DIRECTION_DESC', 'GOING_DIRECTION_CODE',\n",
      "       'BODY_TYPE_DESC', 'BODY_TYPE_CODE', 'DRIVERLESS_FLAG_DESC',\n",
      "       'DRIVERLESS_FLAG', 'FIRE_FLAG_DESC', 'FIRE_FLAG', 'PARKED_FLAG_DESC',\n",
      "       'PARKED_FLAG', 'SPEED_LIMIT', 'HIT_AND_RUN_FLAG_DESC',\n",
      "       'HIT_AND_RUN_FLAG', 'HAZMAT_SPILL_FLAG_DESC', 'HAZMAT_SPILL_FLAG',\n",
      "       'VEHICLE_ID', 'TOWED_VEHICLE_CONFIG_DESC', 'TOWED_VEHICLE_CONFIG_CODE',\n",
      "       'AREA_DAMAGED_CODE_IMP1', 'AREA_DAMAGED_CODE1', 'AREA_DAMAGED_CODE2',\n",
      "       'AREA_DAMAGED_CODE3', 'AREA_DAMAGED_CODE_MAIN_DESC',\n",
      "       'AREA_DAMAGED_CODE_MAIN', 'YEAR', 'QUARTER'],\n",
      "      dtype='object')\n"
     ]
    }
   ],
   "source": [
    "print(\"(VehicleCrashes DataSet)\\n\",VehicleCrashes.columns)\n",
    "print(\"===============================================================================\\n\")\n",
    "print(\"(PersonalDetails DataSet)\\n\",PersonalDetails.columns)\n",
    "print(\"===============================================================================\\n\")\n",
    "print(\"(VehicleDetails DataSet)\\n\",VehicleDetails.columns)"
   ]
  },
  {
   "cell_type": "markdown",
   "id": "R6963oZOsF-F",
   "metadata": {
    "id": "R6963oZOsF-F"
   },
   "source": [
    "Adding extra column ACCIDENT_DATETIME which will be the combination of ACC_DATE and ACC_TIME\n",
    "We could use this column in the future to get the overview of Accident happened at what Date,year,month, Time"
   ]
  },
  {
   "cell_type": "code",
   "execution_count": 10,
   "id": "e46de344",
   "metadata": {
    "colab": {
     "base_uri": "https://localhost:8080/",
     "height": 245
    },
    "id": "e46de344",
    "outputId": "fb3a8729-27fe-49f6-b1f4-0c5b8722d3d2"
   },
   "outputs": [
    {
     "data": {
      "text/html": [
       "<div>\n",
       "<style scoped>\n",
       "    .dataframe tbody tr th:only-of-type {\n",
       "        vertical-align: middle;\n",
       "    }\n",
       "\n",
       "    .dataframe tbody tr th {\n",
       "        vertical-align: top;\n",
       "    }\n",
       "\n",
       "    .dataframe thead th {\n",
       "        text-align: right;\n",
       "    }\n",
       "</style>\n",
       "<table border=\"1\" class=\"dataframe\">\n",
       "  <thead>\n",
       "    <tr style=\"text-align: right;\">\n",
       "      <th></th>\n",
       "      <th>YEAR</th>\n",
       "      <th>QUARTER</th>\n",
       "      <th>LIGHT_DESC</th>\n",
       "      <th>LIGHT_CODE</th>\n",
       "      <th>COUNTY_DESC</th>\n",
       "      <th>COUNTY_NO</th>\n",
       "      <th>MUNI_DESC</th>\n",
       "      <th>MUNI_CODE</th>\n",
       "      <th>JUNCTION_DESC</th>\n",
       "      <th>JUNCTION_CODE</th>\n",
       "      <th>COLLISION_TYPE_DESC</th>\n",
       "      <th>COLLISION_TYPE_CODE</th>\n",
       "      <th>SURF_COND_DESC</th>\n",
       "      <th>SURF_COND_CODE</th>\n",
       "      <th>LANE_DESC</th>\n",
       "      <th>LANE_CODE</th>\n",
       "      <th>RD_COND_DESC</th>\n",
       "      <th>RD_COND_CODE</th>\n",
       "      <th>RD_DIV_DESC</th>\n",
       "      <th>RD_DIV_CODE</th>\n",
       "      <th>FIX_OBJ_DESC</th>\n",
       "      <th>FIX_OBJ_CODE</th>\n",
       "      <th>REPORT_NO</th>\n",
       "      <th>REPORT_TYPE</th>\n",
       "      <th>WEATHER_DESC</th>\n",
       "      <th>WEATHER_CODE</th>\n",
       "      <th>ACC_DATE</th>\n",
       "      <th>ACC_TIME</th>\n",
       "      <th>LOC_CODE</th>\n",
       "      <th>SIGNAL_FLAG_DESC</th>\n",
       "      <th>SIGNAL_FLAG</th>\n",
       "      <th>C_M_ZONE_FLAG</th>\n",
       "      <th>AGENCY_CODE</th>\n",
       "      <th>AREA_CODE</th>\n",
       "      <th>HARM_EVENT_DESC1</th>\n",
       "      <th>HARM_EVENT_CODE1</th>\n",
       "      <th>HARM_EVENT_DESC2</th>\n",
       "      <th>HARM_EVENT_CODE2</th>\n",
       "      <th>RTE_NO</th>\n",
       "      <th>ROUTE_TYPE_CODE</th>\n",
       "      <th>RTE_SUFFIX</th>\n",
       "      <th>LOG_MILE</th>\n",
       "      <th>LOGMILE_DIR_FLAG_DESC</th>\n",
       "      <th>LOGMILE_DIR_FLAG</th>\n",
       "      <th>MAINROAD_NAME</th>\n",
       "      <th>DISTANCE</th>\n",
       "      <th>FEET_MILES_FLAG_DESC</th>\n",
       "      <th>FEET_MILES_FLAG</th>\n",
       "      <th>DISTANCE_DIR_FLAG</th>\n",
       "      <th>REFERENCE_NO</th>\n",
       "      <th>REFERENCE_TYPE_CODE</th>\n",
       "      <th>REFERENCE_SUFFIX</th>\n",
       "      <th>REFERENCE_ROAD_NAME</th>\n",
       "      <th>LATITUDE</th>\n",
       "      <th>LONGITUDE</th>\n",
       "      <th>LOCATION</th>\n",
       "      <th>ACCIDENT_DATETIME</th>\n",
       "    </tr>\n",
       "  </thead>\n",
       "  <tbody>\n",
       "    <tr>\n",
       "      <th>0</th>\n",
       "      <td>2020</td>\n",
       "      <td>Q2</td>\n",
       "      <td>Daylight</td>\n",
       "      <td>1.00</td>\n",
       "      <td>Baltimore</td>\n",
       "      <td>3.0</td>\n",
       "      <td>NaN</td>\n",
       "      <td>NaN</td>\n",
       "      <td>NaN</td>\n",
       "      <td>NaN</td>\n",
       "      <td>Other</td>\n",
       "      <td>88</td>\n",
       "      <td>NaN</td>\n",
       "      <td>NaN</td>\n",
       "      <td>NaN</td>\n",
       "      <td>NaN</td>\n",
       "      <td>NaN</td>\n",
       "      <td>NaN</td>\n",
       "      <td>NaN</td>\n",
       "      <td>NaN</td>\n",
       "      <td>Not Applicable</td>\n",
       "      <td>0.0</td>\n",
       "      <td>AE58770052</td>\n",
       "      <td>Property Damage Crash</td>\n",
       "      <td>Not Applicable</td>\n",
       "      <td>0.00</td>\n",
       "      <td>20200618</td>\n",
       "      <td>15:15:00</td>\n",
       "      <td>NaN</td>\n",
       "      <td>No</td>\n",
       "      <td>N</td>\n",
       "      <td>N</td>\n",
       "      <td>BACOPD</td>\n",
       "      <td>UNK</td>\n",
       "      <td>Parked Vehicle</td>\n",
       "      <td>2.0</td>\n",
       "      <td>Not Applicable</td>\n",
       "      <td>0.0</td>\n",
       "      <td>NaN</td>\n",
       "      <td>NaN</td>\n",
       "      <td>NaN</td>\n",
       "      <td>NaN</td>\n",
       "      <td>NaN</td>\n",
       "      <td>NaN</td>\n",
       "      <td>NaN</td>\n",
       "      <td>NaN</td>\n",
       "      <td>NaN</td>\n",
       "      <td>NaN</td>\n",
       "      <td>NaN</td>\n",
       "      <td>NaN</td>\n",
       "      <td>NaN</td>\n",
       "      <td>NaN</td>\n",
       "      <td>NaN</td>\n",
       "      <td>39.277263</td>\n",
       "      <td>-76.503693</td>\n",
       "      <td>POINT (-76.5036932 39.27726285)</td>\n",
       "      <td>2020-06-18 15:15:00</td>\n",
       "    </tr>\n",
       "    <tr>\n",
       "      <th>1</th>\n",
       "      <td>2020</td>\n",
       "      <td>Q2</td>\n",
       "      <td>NaN</td>\n",
       "      <td>6.02</td>\n",
       "      <td>Baltimore City</td>\n",
       "      <td>24.0</td>\n",
       "      <td>NaN</td>\n",
       "      <td>NaN</td>\n",
       "      <td>Non Intersection</td>\n",
       "      <td>1.0</td>\n",
       "      <td>Other</td>\n",
       "      <td>88</td>\n",
       "      <td>Dry</td>\n",
       "      <td>2.0</td>\n",
       "      <td>Left Turn Lane</td>\n",
       "      <td>2.0</td>\n",
       "      <td>No Defects</td>\n",
       "      <td>1.0</td>\n",
       "      <td>One-way Trafficway</td>\n",
       "      <td>2.0</td>\n",
       "      <td>Other Pole</td>\n",
       "      <td>10.0</td>\n",
       "      <td>ADJ984001J</td>\n",
       "      <td>Injury Crash</td>\n",
       "      <td>NaN</td>\n",
       "      <td>7.01</td>\n",
       "      <td>20200430</td>\n",
       "      <td>06:39:00</td>\n",
       "      <td>1003</td>\n",
       "      <td>Yes</td>\n",
       "      <td>Y</td>\n",
       "      <td>N</td>\n",
       "      <td>BALTIMORE</td>\n",
       "      <td>UNK</td>\n",
       "      <td>Other Vehicle</td>\n",
       "      <td>1.0</td>\n",
       "      <td>Other Vehicle</td>\n",
       "      <td>1.0</td>\n",
       "      <td>NaN</td>\n",
       "      <td>NaN</td>\n",
       "      <td>NaN</td>\n",
       "      <td>0.0</td>\n",
       "      <td>NaN</td>\n",
       "      <td>NaN</td>\n",
       "      <td>CHARLES STREET</td>\n",
       "      <td>2.0</td>\n",
       "      <td>Miles</td>\n",
       "      <td>M</td>\n",
       "      <td>N</td>\n",
       "      <td>NaN</td>\n",
       "      <td>NaN</td>\n",
       "      <td>NaN</td>\n",
       "      <td>NORTH AVE</td>\n",
       "      <td>39.311025</td>\n",
       "      <td>-76.616429</td>\n",
       "      <td>POINT (-76.616429453205 39.311024794431)</td>\n",
       "      <td>2020-04-30 06:39:00</td>\n",
       "    </tr>\n",
       "  </tbody>\n",
       "</table>\n",
       "</div>"
      ],
      "text/plain": [
       "   YEAR QUARTER LIGHT_DESC  LIGHT_CODE     COUNTY_DESC  COUNTY_NO  MUNI_DESC  \\\n",
       "0  2020      Q2   Daylight        1.00       Baltimore        3.0        NaN   \n",
       "1  2020      Q2        NaN        6.02  Baltimore City       24.0        NaN   \n",
       "\n",
       "   MUNI_CODE     JUNCTION_DESC  JUNCTION_CODE COLLISION_TYPE_DESC  \\\n",
       "0        NaN               NaN            NaN               Other   \n",
       "1        NaN  Non Intersection            1.0               Other   \n",
       "\n",
       "   COLLISION_TYPE_CODE SURF_COND_DESC  SURF_COND_CODE       LANE_DESC  \\\n",
       "0                   88            NaN             NaN             NaN   \n",
       "1                   88            Dry             2.0  Left Turn Lane   \n",
       "\n",
       "   LANE_CODE RD_COND_DESC  RD_COND_CODE         RD_DIV_DESC  RD_DIV_CODE  \\\n",
       "0        NaN          NaN           NaN                 NaN          NaN   \n",
       "1        2.0   No Defects           1.0  One-way Trafficway          2.0   \n",
       "\n",
       "     FIX_OBJ_DESC  FIX_OBJ_CODE   REPORT_NO            REPORT_TYPE  \\\n",
       "0  Not Applicable           0.0  AE58770052  Property Damage Crash   \n",
       "1      Other Pole          10.0  ADJ984001J           Injury Crash   \n",
       "\n",
       "     WEATHER_DESC  WEATHER_CODE  ACC_DATE  ACC_TIME LOC_CODE SIGNAL_FLAG_DESC  \\\n",
       "0  Not Applicable          0.00  20200618  15:15:00      NaN               No   \n",
       "1             NaN          7.01  20200430  06:39:00     1003              Yes   \n",
       "\n",
       "  SIGNAL_FLAG C_M_ZONE_FLAG AGENCY_CODE AREA_CODE HARM_EVENT_DESC1  \\\n",
       "0           N             N      BACOPD       UNK   Parked Vehicle   \n",
       "1           Y             N   BALTIMORE       UNK    Other Vehicle   \n",
       "\n",
       "   HARM_EVENT_CODE1 HARM_EVENT_DESC2  HARM_EVENT_CODE2  RTE_NO  \\\n",
       "0               2.0   Not Applicable               0.0     NaN   \n",
       "1               1.0    Other Vehicle               1.0     NaN   \n",
       "\n",
       "  ROUTE_TYPE_CODE RTE_SUFFIX  LOG_MILE LOGMILE_DIR_FLAG_DESC LOGMILE_DIR_FLAG  \\\n",
       "0             NaN        NaN       NaN                   NaN              NaN   \n",
       "1             NaN        NaN       0.0                   NaN              NaN   \n",
       "\n",
       "    MAINROAD_NAME  DISTANCE FEET_MILES_FLAG_DESC FEET_MILES_FLAG  \\\n",
       "0             NaN       NaN                  NaN             NaN   \n",
       "1  CHARLES STREET       2.0                Miles               M   \n",
       "\n",
       "  DISTANCE_DIR_FLAG  REFERENCE_NO REFERENCE_TYPE_CODE REFERENCE_SUFFIX  \\\n",
       "0               NaN           NaN                 NaN              NaN   \n",
       "1                 N           NaN                 NaN              NaN   \n",
       "\n",
       "  REFERENCE_ROAD_NAME   LATITUDE  LONGITUDE  \\\n",
       "0                 NaN  39.277263 -76.503693   \n",
       "1           NORTH AVE  39.311025 -76.616429   \n",
       "\n",
       "                                   LOCATION   ACCIDENT_DATETIME  \n",
       "0           POINT (-76.5036932 39.27726285) 2020-06-18 15:15:00  \n",
       "1  POINT (-76.616429453205 39.311024794431) 2020-04-30 06:39:00  "
      ]
     },
     "execution_count": 10,
     "metadata": {},
     "output_type": "execute_result"
    }
   ],
   "source": [
    "VehicleCrashes['ACCIDENT_DATETIME'] = pd.to_datetime(VehicleCrashes.ACC_DATE.astype(str)+' '+VehicleCrashes.ACC_TIME.astype(str))\n",
    "VehicleCrashes.head(2)"
   ]
  },
  {
   "cell_type": "markdown",
   "id": "kgNoQdun4HsM",
   "metadata": {
    "id": "kgNoQdun4HsM"
   },
   "source": [
    "# **Merging**"
   ]
  },
  {
   "cell_type": "markdown",
   "id": "rPBJBwa2rFaQ",
   "metadata": {
    "id": "rPBJBwa2rFaQ"
   },
   "source": [
    "####Merging of PersonalDetails and VehicleDetails datasets of years 2020 and 2021"
   ]
  },
  {
   "cell_type": "code",
   "execution_count": 11,
   "id": "o4Tg_SSq8_ok",
   "metadata": {
    "colab": {
     "base_uri": "https://localhost:8080/"
    },
    "id": "o4Tg_SSq8_ok",
    "outputId": "16b243ba-d635-47ab-8edc-546fce2136d7"
   },
   "outputs": [
    {
     "data": {
      "text/plain": [
       "(688438, 91)"
      ]
     },
     "execution_count": 11,
     "metadata": {},
     "output_type": "execute_result"
    }
   ],
   "source": [
    "#Merging Vehicle details and Personal details datasets\n",
    "Vehicle_Personal_Details = pd.merge(VehicleDetails, PersonalDetails, how = 'outer', on = ['MOVEMENT_CODE', 'MOVEMENT_DESC', 'QUARTER', 'REPORT_NO','VEHICLE_ID', 'YEAR'])\n",
    "Vehicle_Personal_Details.shape"
   ]
  },
  {
   "cell_type": "markdown",
   "id": "UQ-L3R4Q0QZg",
   "metadata": {
    "id": "UQ-L3R4Q0QZg"
   },
   "source": [
    "####Merging all three datasets: Vehicle Crashes, Vehicle Details and Personal Details to understand the relations and patterns of the data"
   ]
  },
  {
   "cell_type": "code",
   "execution_count": 12,
   "id": "BI3VWiZd9fm0",
   "metadata": {
    "colab": {
     "base_uri": "https://localhost:8080/",
     "height": 499
    },
    "id": "BI3VWiZd9fm0",
    "outputId": "d5f91108-9364-4cde-e540-cc707c224e37"
   },
   "outputs": [
    {
     "name": "stdout",
     "output_type": "stream",
     "text": [
      "Shape of Merged data  :  (688442, 145)\n",
      "================================================\n"
     ]
    },
    {
     "data": {
      "text/html": [
       "<div>\n",
       "<style scoped>\n",
       "    .dataframe tbody tr th:only-of-type {\n",
       "        vertical-align: middle;\n",
       "    }\n",
       "\n",
       "    .dataframe tbody tr th {\n",
       "        vertical-align: top;\n",
       "    }\n",
       "\n",
       "    .dataframe thead th {\n",
       "        text-align: right;\n",
       "    }\n",
       "</style>\n",
       "<table border=\"1\" class=\"dataframe\">\n",
       "  <thead>\n",
       "    <tr style=\"text-align: right;\">\n",
       "      <th></th>\n",
       "      <th>HARM_EVENT_DESC</th>\n",
       "      <th>HARM_EVENT_CODE</th>\n",
       "      <th>CONTI_DIRECTION_DESC</th>\n",
       "      <th>CONTI_DIRECTION_CODE</th>\n",
       "      <th>DAMAGE_DESC</th>\n",
       "      <th>DAMAGE_CODE</th>\n",
       "      <th>MOVEMENT_DESC</th>\n",
       "      <th>MOVEMENT_CODE</th>\n",
       "      <th>VIN_NO</th>\n",
       "      <th>REPORT_NO</th>\n",
       "      <th>CV_BODY_TYPE_DESC</th>\n",
       "      <th>CV_BODY_TYPE_CODE</th>\n",
       "      <th>VEH_YEAR</th>\n",
       "      <th>VEH_MAKE</th>\n",
       "      <th>VEH_MODEL</th>\n",
       "      <th>COMMERCIAL_FLAG_DESC</th>\n",
       "      <th>COMMERCIAL_FLAG</th>\n",
       "      <th>HZM_NUM</th>\n",
       "      <th>TOWED_AWAY_FLAG_DESC</th>\n",
       "      <th>TOWED_AWAY_FLAG</th>\n",
       "      <th>NUM_AXLES</th>\n",
       "      <th>GVW_DESC</th>\n",
       "      <th>GVW_CODE</th>\n",
       "      <th>GOING_DIRECTION_DESC</th>\n",
       "      <th>GOING_DIRECTION_CODE</th>\n",
       "      <th>BODY_TYPE_DESC</th>\n",
       "      <th>BODY_TYPE_CODE</th>\n",
       "      <th>DRIVERLESS_FLAG_DESC</th>\n",
       "      <th>DRIVERLESS_FLAG</th>\n",
       "      <th>FIRE_FLAG_DESC</th>\n",
       "      <th>FIRE_FLAG</th>\n",
       "      <th>PARKED_FLAG_DESC</th>\n",
       "      <th>PARKED_FLAG</th>\n",
       "      <th>SPEED_LIMIT</th>\n",
       "      <th>HIT_AND_RUN_FLAG_DESC</th>\n",
       "      <th>HIT_AND_RUN_FLAG</th>\n",
       "      <th>HAZMAT_SPILL_FLAG_DESC</th>\n",
       "      <th>HAZMAT_SPILL_FLAG</th>\n",
       "      <th>VEHICLE_ID</th>\n",
       "      <th>TOWED_VEHICLE_CONFIG_DESC</th>\n",
       "      <th>TOWED_VEHICLE_CONFIG_CODE</th>\n",
       "      <th>AREA_DAMAGED_CODE_IMP1</th>\n",
       "      <th>AREA_DAMAGED_CODE1</th>\n",
       "      <th>AREA_DAMAGED_CODE2</th>\n",
       "      <th>AREA_DAMAGED_CODE3</th>\n",
       "      <th>AREA_DAMAGED_CODE_MAIN_DESC</th>\n",
       "      <th>AREA_DAMAGED_CODE_MAIN</th>\n",
       "      <th>YEAR</th>\n",
       "      <th>QUARTER</th>\n",
       "      <th>SEX_DESC</th>\n",
       "      <th>SEX_CODE</th>\n",
       "      <th>CONDITION_DESC</th>\n",
       "      <th>CONDITION_CODE</th>\n",
       "      <th>INJ_SEVER_DESC</th>\n",
       "      <th>INJ_SEVER_CODE</th>\n",
       "      <th>OCC_SEAT_POS_DESC</th>\n",
       "      <th>OCC_SEAT_POS_CODE</th>\n",
       "      <th>PED_VISIBLE_DESC</th>\n",
       "      <th>PED_VISIBLE_CODE</th>\n",
       "      <th>PED_OBEY_DESC</th>\n",
       "      <th>PED_OBEY_CODE</th>\n",
       "      <th>PED_TYPE_DESC</th>\n",
       "      <th>PED_TYPE_CODE</th>\n",
       "      <th>PED_LOCATION_CODE</th>\n",
       "      <th>PERSON_TYPE_DESC</th>\n",
       "      <th>PERSON_TYPE</th>\n",
       "      <th>ALCOHOL_TEST_DESC</th>\n",
       "      <th>ALCOHOL_TEST_CODE</th>\n",
       "      <th>ALCOHOL_TESTTYPE_DESC</th>\n",
       "      <th>ALCOHOL_TESTTYPE_CODE</th>\n",
       "      <th>DRUG_TEST_DESC</th>\n",
       "      <th>DRUG_TEST_CODE</th>\n",
       "      <th>DRUG_TESTRESULT_DESC</th>\n",
       "      <th>DRUG_TESTRESULT_CODE</th>\n",
       "      <th>BAC_CODE</th>\n",
       "      <th>FAULT_FLAG_DESC</th>\n",
       "      <th>FAULT_FLAG</th>\n",
       "      <th>EQUIP_PROB_DESC</th>\n",
       "      <th>EQUIP_PROB_CODE</th>\n",
       "      <th>SAF_EQUIP_DESC</th>\n",
       "      <th>SAF_EQUIP_CODE</th>\n",
       "      <th>EJECT_DESC</th>\n",
       "      <th>EJECT_CODE</th>\n",
       "      <th>DATE_OF_BIRTH</th>\n",
       "      <th>PERSON_ID</th>\n",
       "      <th>LICENSE_STATE_CODE</th>\n",
       "      <th>CLASS</th>\n",
       "      <th>CDL_FLAG_DESC</th>\n",
       "      <th>CDL_FLAG</th>\n",
       "      <th>EMS_UNIT_LABEL</th>\n",
       "      <th>AIRBAG_DEPLOYED</th>\n",
       "      <th>LIGHT_DESC</th>\n",
       "      <th>LIGHT_CODE</th>\n",
       "      <th>COUNTY_DESC</th>\n",
       "      <th>COUNTY_NO</th>\n",
       "      <th>MUNI_DESC</th>\n",
       "      <th>MUNI_CODE</th>\n",
       "      <th>JUNCTION_DESC</th>\n",
       "      <th>JUNCTION_CODE</th>\n",
       "      <th>COLLISION_TYPE_DESC</th>\n",
       "      <th>COLLISION_TYPE_CODE</th>\n",
       "      <th>SURF_COND_DESC</th>\n",
       "      <th>SURF_COND_CODE</th>\n",
       "      <th>LANE_DESC</th>\n",
       "      <th>LANE_CODE</th>\n",
       "      <th>RD_COND_DESC</th>\n",
       "      <th>RD_COND_CODE</th>\n",
       "      <th>RD_DIV_DESC</th>\n",
       "      <th>RD_DIV_CODE</th>\n",
       "      <th>FIX_OBJ_DESC</th>\n",
       "      <th>FIX_OBJ_CODE</th>\n",
       "      <th>REPORT_TYPE</th>\n",
       "      <th>WEATHER_DESC</th>\n",
       "      <th>WEATHER_CODE</th>\n",
       "      <th>ACC_DATE</th>\n",
       "      <th>ACC_TIME</th>\n",
       "      <th>LOC_CODE</th>\n",
       "      <th>SIGNAL_FLAG_DESC</th>\n",
       "      <th>SIGNAL_FLAG</th>\n",
       "      <th>C_M_ZONE_FLAG</th>\n",
       "      <th>AGENCY_CODE</th>\n",
       "      <th>AREA_CODE</th>\n",
       "      <th>HARM_EVENT_DESC1</th>\n",
       "      <th>HARM_EVENT_CODE1</th>\n",
       "      <th>HARM_EVENT_DESC2</th>\n",
       "      <th>HARM_EVENT_CODE2</th>\n",
       "      <th>RTE_NO</th>\n",
       "      <th>ROUTE_TYPE_CODE</th>\n",
       "      <th>RTE_SUFFIX</th>\n",
       "      <th>LOG_MILE</th>\n",
       "      <th>LOGMILE_DIR_FLAG_DESC</th>\n",
       "      <th>LOGMILE_DIR_FLAG</th>\n",
       "      <th>MAINROAD_NAME</th>\n",
       "      <th>DISTANCE</th>\n",
       "      <th>FEET_MILES_FLAG_DESC</th>\n",
       "      <th>FEET_MILES_FLAG</th>\n",
       "      <th>DISTANCE_DIR_FLAG</th>\n",
       "      <th>REFERENCE_NO</th>\n",
       "      <th>REFERENCE_TYPE_CODE</th>\n",
       "      <th>REFERENCE_SUFFIX</th>\n",
       "      <th>REFERENCE_ROAD_NAME</th>\n",
       "      <th>LATITUDE</th>\n",
       "      <th>LONGITUDE</th>\n",
       "      <th>LOCATION</th>\n",
       "      <th>ACCIDENT_DATETIME</th>\n",
       "    </tr>\n",
       "  </thead>\n",
       "  <tbody>\n",
       "    <tr>\n",
       "      <th>0</th>\n",
       "      <td>Other Vehicle</td>\n",
       "      <td>1.0</td>\n",
       "      <td>North</td>\n",
       "      <td>N</td>\n",
       "      <td>Unknown</td>\n",
       "      <td>99.0</td>\n",
       "      <td>Unknown</td>\n",
       "      <td>99.0</td>\n",
       "      <td>NaN</td>\n",
       "      <td>AE5057004X</td>\n",
       "      <td>NaN</td>\n",
       "      <td>NaN</td>\n",
       "      <td>NaN</td>\n",
       "      <td>UNKNOWN</td>\n",
       "      <td>UNKNOWN</td>\n",
       "      <td>No</td>\n",
       "      <td>N</td>\n",
       "      <td>NaN</td>\n",
       "      <td>No</td>\n",
       "      <td>N</td>\n",
       "      <td>NaN</td>\n",
       "      <td>NaN</td>\n",
       "      <td>NaN</td>\n",
       "      <td>North</td>\n",
       "      <td>N</td>\n",
       "      <td>NaN</td>\n",
       "      <td>NaN</td>\n",
       "      <td>NaN</td>\n",
       "      <td>U</td>\n",
       "      <td>No</td>\n",
       "      <td>N</td>\n",
       "      <td>No</td>\n",
       "      <td>N</td>\n",
       "      <td>25.0</td>\n",
       "      <td>Yes</td>\n",
       "      <td>Y</td>\n",
       "      <td>NaN</td>\n",
       "      <td>NaN</td>\n",
       "      <td>47e2531d-8c69-470c-9198-502a46c7639e</td>\n",
       "      <td>Unknown</td>\n",
       "      <td>99.0</td>\n",
       "      <td>11.0</td>\n",
       "      <td>10.0</td>\n",
       "      <td>11.0</td>\n",
       "      <td>12.0</td>\n",
       "      <td>Eleven o'clock</td>\n",
       "      <td>11.0</td>\n",
       "      <td>2020</td>\n",
       "      <td>Q2</td>\n",
       "      <td>NaN</td>\n",
       "      <td>NaN</td>\n",
       "      <td>NaN</td>\n",
       "      <td>NaN</td>\n",
       "      <td>NaN</td>\n",
       "      <td>NaN</td>\n",
       "      <td>NaN</td>\n",
       "      <td>NaN</td>\n",
       "      <td>NaN</td>\n",
       "      <td>NaN</td>\n",
       "      <td>NaN</td>\n",
       "      <td>NaN</td>\n",
       "      <td>NaN</td>\n",
       "      <td>NaN</td>\n",
       "      <td>NaN</td>\n",
       "      <td>NaN</td>\n",
       "      <td>NaN</td>\n",
       "      <td>NaN</td>\n",
       "      <td>NaN</td>\n",
       "      <td>NaN</td>\n",
       "      <td>NaN</td>\n",
       "      <td>NaN</td>\n",
       "      <td>NaN</td>\n",
       "      <td>NaN</td>\n",
       "      <td>NaN</td>\n",
       "      <td>NaN</td>\n",
       "      <td>NaN</td>\n",
       "      <td>NaN</td>\n",
       "      <td>NaN</td>\n",
       "      <td>NaN</td>\n",
       "      <td>NaN</td>\n",
       "      <td>NaN</td>\n",
       "      <td>NaN</td>\n",
       "      <td>NaN</td>\n",
       "      <td>NaN</td>\n",
       "      <td>NaN</td>\n",
       "      <td>NaN</td>\n",
       "      <td>NaN</td>\n",
       "      <td>NaN</td>\n",
       "      <td>NaN</td>\n",
       "      <td>NaN</td>\n",
       "      <td>NaN</td>\n",
       "      <td>Daylight</td>\n",
       "      <td>1.0</td>\n",
       "      <td>Baltimore</td>\n",
       "      <td>3.0</td>\n",
       "      <td>NaN</td>\n",
       "      <td>0.0</td>\n",
       "      <td>Non Intersection</td>\n",
       "      <td>1.00</td>\n",
       "      <td>Other</td>\n",
       "      <td>88.0</td>\n",
       "      <td>Dry</td>\n",
       "      <td>2.0</td>\n",
       "      <td>Right Turn Lane</td>\n",
       "      <td>1.0</td>\n",
       "      <td>No Defects</td>\n",
       "      <td>1.0</td>\n",
       "      <td>Two-way, Not Divided</td>\n",
       "      <td>1.0</td>\n",
       "      <td>Not Applicable</td>\n",
       "      <td>0.0</td>\n",
       "      <td>Property Damage Crash</td>\n",
       "      <td>Not Applicable</td>\n",
       "      <td>0.00</td>\n",
       "      <td>20200528.0</td>\n",
       "      <td>11:40:00</td>\n",
       "      <td>NaN</td>\n",
       "      <td>No</td>\n",
       "      <td>N</td>\n",
       "      <td>N</td>\n",
       "      <td>BACOPD</td>\n",
       "      <td>UNK</td>\n",
       "      <td>Other Vehicle</td>\n",
       "      <td>1.0</td>\n",
       "      <td>Not Applicable</td>\n",
       "      <td>0.0</td>\n",
       "      <td>3073.0</td>\n",
       "      <td>CO</td>\n",
       "      <td>NaN</td>\n",
       "      <td>0.06</td>\n",
       "      <td>North</td>\n",
       "      <td>N</td>\n",
       "      <td>DOLORES AVE</td>\n",
       "      <td>300.0</td>\n",
       "      <td>Feet</td>\n",
       "      <td>F</td>\n",
       "      <td>N</td>\n",
       "      <td>3074.0</td>\n",
       "      <td>CO</td>\n",
       "      <td>NaN</td>\n",
       "      <td>BREWSTER ST</td>\n",
       "      <td>39.245577</td>\n",
       "      <td>-76.702305</td>\n",
       "      <td>POINT (-76.702304848438 39.245576553452)</td>\n",
       "      <td>2020-05-28 11:40:00</td>\n",
       "    </tr>\n",
       "    <tr>\n",
       "      <th>1</th>\n",
       "      <td>Not Applicable</td>\n",
       "      <td>0.0</td>\n",
       "      <td>NaN</td>\n",
       "      <td>NaN</td>\n",
       "      <td>Functional</td>\n",
       "      <td>3.0</td>\n",
       "      <td>Parked</td>\n",
       "      <td>10.0</td>\n",
       "      <td>1GNEL19X95B120644</td>\n",
       "      <td>AE5057004X</td>\n",
       "      <td>NaN</td>\n",
       "      <td>NaN</td>\n",
       "      <td>2005.0</td>\n",
       "      <td>CHEVY</td>\n",
       "      <td>ASTRO</td>\n",
       "      <td>No</td>\n",
       "      <td>N</td>\n",
       "      <td>NaN</td>\n",
       "      <td>No</td>\n",
       "      <td>N</td>\n",
       "      <td>NaN</td>\n",
       "      <td>NaN</td>\n",
       "      <td>NaN</td>\n",
       "      <td>NaN</td>\n",
       "      <td>NaN</td>\n",
       "      <td>Passenger Car</td>\n",
       "      <td>2.0</td>\n",
       "      <td>Yes</td>\n",
       "      <td>Y</td>\n",
       "      <td>No</td>\n",
       "      <td>N</td>\n",
       "      <td>Yes</td>\n",
       "      <td>Y</td>\n",
       "      <td>25.0</td>\n",
       "      <td>No</td>\n",
       "      <td>N</td>\n",
       "      <td>NaN</td>\n",
       "      <td>NaN</td>\n",
       "      <td>546908c6-3c1d-4433-aff1-f613347f3aad</td>\n",
       "      <td>Not Applicable</td>\n",
       "      <td>0.0</td>\n",
       "      <td>10.0</td>\n",
       "      <td>7.0</td>\n",
       "      <td>8.0</td>\n",
       "      <td>10.0</td>\n",
       "      <td>Eight o'clock</td>\n",
       "      <td>8.0</td>\n",
       "      <td>2020</td>\n",
       "      <td>Q2</td>\n",
       "      <td>NaN</td>\n",
       "      <td>NaN</td>\n",
       "      <td>NaN</td>\n",
       "      <td>NaN</td>\n",
       "      <td>NaN</td>\n",
       "      <td>NaN</td>\n",
       "      <td>NaN</td>\n",
       "      <td>NaN</td>\n",
       "      <td>NaN</td>\n",
       "      <td>NaN</td>\n",
       "      <td>NaN</td>\n",
       "      <td>NaN</td>\n",
       "      <td>NaN</td>\n",
       "      <td>NaN</td>\n",
       "      <td>NaN</td>\n",
       "      <td>NaN</td>\n",
       "      <td>NaN</td>\n",
       "      <td>NaN</td>\n",
       "      <td>NaN</td>\n",
       "      <td>NaN</td>\n",
       "      <td>NaN</td>\n",
       "      <td>NaN</td>\n",
       "      <td>NaN</td>\n",
       "      <td>NaN</td>\n",
       "      <td>NaN</td>\n",
       "      <td>NaN</td>\n",
       "      <td>NaN</td>\n",
       "      <td>NaN</td>\n",
       "      <td>NaN</td>\n",
       "      <td>NaN</td>\n",
       "      <td>NaN</td>\n",
       "      <td>NaN</td>\n",
       "      <td>NaN</td>\n",
       "      <td>NaN</td>\n",
       "      <td>NaN</td>\n",
       "      <td>NaN</td>\n",
       "      <td>NaN</td>\n",
       "      <td>NaN</td>\n",
       "      <td>NaN</td>\n",
       "      <td>NaN</td>\n",
       "      <td>NaN</td>\n",
       "      <td>NaN</td>\n",
       "      <td>Daylight</td>\n",
       "      <td>1.0</td>\n",
       "      <td>Baltimore</td>\n",
       "      <td>3.0</td>\n",
       "      <td>NaN</td>\n",
       "      <td>0.0</td>\n",
       "      <td>Non Intersection</td>\n",
       "      <td>1.00</td>\n",
       "      <td>Other</td>\n",
       "      <td>88.0</td>\n",
       "      <td>Dry</td>\n",
       "      <td>2.0</td>\n",
       "      <td>Right Turn Lane</td>\n",
       "      <td>1.0</td>\n",
       "      <td>No Defects</td>\n",
       "      <td>1.0</td>\n",
       "      <td>Two-way, Not Divided</td>\n",
       "      <td>1.0</td>\n",
       "      <td>Not Applicable</td>\n",
       "      <td>0.0</td>\n",
       "      <td>Property Damage Crash</td>\n",
       "      <td>Not Applicable</td>\n",
       "      <td>0.00</td>\n",
       "      <td>20200528.0</td>\n",
       "      <td>11:40:00</td>\n",
       "      <td>NaN</td>\n",
       "      <td>No</td>\n",
       "      <td>N</td>\n",
       "      <td>N</td>\n",
       "      <td>BACOPD</td>\n",
       "      <td>UNK</td>\n",
       "      <td>Other Vehicle</td>\n",
       "      <td>1.0</td>\n",
       "      <td>Not Applicable</td>\n",
       "      <td>0.0</td>\n",
       "      <td>3073.0</td>\n",
       "      <td>CO</td>\n",
       "      <td>NaN</td>\n",
       "      <td>0.06</td>\n",
       "      <td>North</td>\n",
       "      <td>N</td>\n",
       "      <td>DOLORES AVE</td>\n",
       "      <td>300.0</td>\n",
       "      <td>Feet</td>\n",
       "      <td>F</td>\n",
       "      <td>N</td>\n",
       "      <td>3074.0</td>\n",
       "      <td>CO</td>\n",
       "      <td>NaN</td>\n",
       "      <td>BREWSTER ST</td>\n",
       "      <td>39.245577</td>\n",
       "      <td>-76.702305</td>\n",
       "      <td>POINT (-76.702304848438 39.245576553452)</td>\n",
       "      <td>2020-05-28 11:40:00</td>\n",
       "    </tr>\n",
       "    <tr>\n",
       "      <th>2</th>\n",
       "      <td>NaN</td>\n",
       "      <td>NaN</td>\n",
       "      <td>NaN</td>\n",
       "      <td>NaN</td>\n",
       "      <td>NaN</td>\n",
       "      <td>NaN</td>\n",
       "      <td>NaN</td>\n",
       "      <td>NaN</td>\n",
       "      <td>NaN</td>\n",
       "      <td>AE5057004X</td>\n",
       "      <td>NaN</td>\n",
       "      <td>NaN</td>\n",
       "      <td>NaN</td>\n",
       "      <td>NaN</td>\n",
       "      <td>NaN</td>\n",
       "      <td>NaN</td>\n",
       "      <td>NaN</td>\n",
       "      <td>NaN</td>\n",
       "      <td>NaN</td>\n",
       "      <td>NaN</td>\n",
       "      <td>NaN</td>\n",
       "      <td>NaN</td>\n",
       "      <td>NaN</td>\n",
       "      <td>NaN</td>\n",
       "      <td>NaN</td>\n",
       "      <td>NaN</td>\n",
       "      <td>NaN</td>\n",
       "      <td>NaN</td>\n",
       "      <td>NaN</td>\n",
       "      <td>NaN</td>\n",
       "      <td>NaN</td>\n",
       "      <td>NaN</td>\n",
       "      <td>NaN</td>\n",
       "      <td>NaN</td>\n",
       "      <td>NaN</td>\n",
       "      <td>NaN</td>\n",
       "      <td>NaN</td>\n",
       "      <td>NaN</td>\n",
       "      <td>47e2531d-8c69-470c-9198-502a46c7639e</td>\n",
       "      <td>NaN</td>\n",
       "      <td>NaN</td>\n",
       "      <td>NaN</td>\n",
       "      <td>NaN</td>\n",
       "      <td>NaN</td>\n",
       "      <td>NaN</td>\n",
       "      <td>NaN</td>\n",
       "      <td>NaN</td>\n",
       "      <td>2020</td>\n",
       "      <td>Q2</td>\n",
       "      <td>NaN</td>\n",
       "      <td>NaN</td>\n",
       "      <td>Unknown</td>\n",
       "      <td>99.0</td>\n",
       "      <td>No Injury</td>\n",
       "      <td>1.0</td>\n",
       "      <td>NaN</td>\n",
       "      <td>NaN</td>\n",
       "      <td>NaN</td>\n",
       "      <td>NaN</td>\n",
       "      <td>NaN</td>\n",
       "      <td>NaN</td>\n",
       "      <td>NaN</td>\n",
       "      <td>NaN</td>\n",
       "      <td>NaN</td>\n",
       "      <td>Driver</td>\n",
       "      <td>D</td>\n",
       "      <td>Not Applicable</td>\n",
       "      <td>0.0</td>\n",
       "      <td>NaN</td>\n",
       "      <td>NaN</td>\n",
       "      <td>Not Applicable</td>\n",
       "      <td>0.0</td>\n",
       "      <td>NaN</td>\n",
       "      <td>NaN</td>\n",
       "      <td>NaN</td>\n",
       "      <td>True</td>\n",
       "      <td>Y</td>\n",
       "      <td>Unknown</td>\n",
       "      <td>99.0</td>\n",
       "      <td>Unknown</td>\n",
       "      <td>99.0</td>\n",
       "      <td>Unknown</td>\n",
       "      <td>99.0</td>\n",
       "      <td>NaN</td>\n",
       "      <td>af03961d-5577-4e69-8709-62b279c08bd7</td>\n",
       "      <td>NaN</td>\n",
       "      <td>NaN</td>\n",
       "      <td>False</td>\n",
       "      <td>False</td>\n",
       "      <td>NaN</td>\n",
       "      <td>0.0</td>\n",
       "      <td>Daylight</td>\n",
       "      <td>1.0</td>\n",
       "      <td>Baltimore</td>\n",
       "      <td>3.0</td>\n",
       "      <td>NaN</td>\n",
       "      <td>0.0</td>\n",
       "      <td>Non Intersection</td>\n",
       "      <td>1.00</td>\n",
       "      <td>Other</td>\n",
       "      <td>88.0</td>\n",
       "      <td>Dry</td>\n",
       "      <td>2.0</td>\n",
       "      <td>Right Turn Lane</td>\n",
       "      <td>1.0</td>\n",
       "      <td>No Defects</td>\n",
       "      <td>1.0</td>\n",
       "      <td>Two-way, Not Divided</td>\n",
       "      <td>1.0</td>\n",
       "      <td>Not Applicable</td>\n",
       "      <td>0.0</td>\n",
       "      <td>Property Damage Crash</td>\n",
       "      <td>Not Applicable</td>\n",
       "      <td>0.00</td>\n",
       "      <td>20200528.0</td>\n",
       "      <td>11:40:00</td>\n",
       "      <td>NaN</td>\n",
       "      <td>No</td>\n",
       "      <td>N</td>\n",
       "      <td>N</td>\n",
       "      <td>BACOPD</td>\n",
       "      <td>UNK</td>\n",
       "      <td>Other Vehicle</td>\n",
       "      <td>1.0</td>\n",
       "      <td>Not Applicable</td>\n",
       "      <td>0.0</td>\n",
       "      <td>3073.0</td>\n",
       "      <td>CO</td>\n",
       "      <td>NaN</td>\n",
       "      <td>0.06</td>\n",
       "      <td>North</td>\n",
       "      <td>N</td>\n",
       "      <td>DOLORES AVE</td>\n",
       "      <td>300.0</td>\n",
       "      <td>Feet</td>\n",
       "      <td>F</td>\n",
       "      <td>N</td>\n",
       "      <td>3074.0</td>\n",
       "      <td>CO</td>\n",
       "      <td>NaN</td>\n",
       "      <td>BREWSTER ST</td>\n",
       "      <td>39.245577</td>\n",
       "      <td>-76.702305</td>\n",
       "      <td>POINT (-76.702304848438 39.245576553452)</td>\n",
       "      <td>2020-05-28 11:40:00</td>\n",
       "    </tr>\n",
       "    <tr>\n",
       "      <th>3</th>\n",
       "      <td>Other Vehicle</td>\n",
       "      <td>1.0</td>\n",
       "      <td>North</td>\n",
       "      <td>N</td>\n",
       "      <td>Superficial</td>\n",
       "      <td>2.0</td>\n",
       "      <td>Moving Constant Speed</td>\n",
       "      <td>1.0</td>\n",
       "      <td>NMTKHMBX0JR025092</td>\n",
       "      <td>MSP7221001P</td>\n",
       "      <td>NaN</td>\n",
       "      <td>NaN</td>\n",
       "      <td>2018.0</td>\n",
       "      <td>TOYOTA</td>\n",
       "      <td>CAMRY</td>\n",
       "      <td>No</td>\n",
       "      <td>N</td>\n",
       "      <td>NaN</td>\n",
       "      <td>No</td>\n",
       "      <td>N</td>\n",
       "      <td>NaN</td>\n",
       "      <td>NaN</td>\n",
       "      <td>NaN</td>\n",
       "      <td>North</td>\n",
       "      <td>N</td>\n",
       "      <td>Passenger Car</td>\n",
       "      <td>2.0</td>\n",
       "      <td>No</td>\n",
       "      <td>N</td>\n",
       "      <td>No</td>\n",
       "      <td>N</td>\n",
       "      <td>No</td>\n",
       "      <td>N</td>\n",
       "      <td>55.0</td>\n",
       "      <td>No</td>\n",
       "      <td>N</td>\n",
       "      <td>NaN</td>\n",
       "      <td>NaN</td>\n",
       "      <td>0dbd4a00-c7f2-4c34-b543-c2633fe0118f</td>\n",
       "      <td>Not Applicable</td>\n",
       "      <td>0.0</td>\n",
       "      <td>12.0</td>\n",
       "      <td>6.0</td>\n",
       "      <td>12.0</td>\n",
       "      <td>NaN</td>\n",
       "      <td>Twelve o'clock</td>\n",
       "      <td>12.0</td>\n",
       "      <td>2020</td>\n",
       "      <td>Q2</td>\n",
       "      <td>NaN</td>\n",
       "      <td>NaN</td>\n",
       "      <td>NaN</td>\n",
       "      <td>NaN</td>\n",
       "      <td>NaN</td>\n",
       "      <td>NaN</td>\n",
       "      <td>NaN</td>\n",
       "      <td>NaN</td>\n",
       "      <td>NaN</td>\n",
       "      <td>NaN</td>\n",
       "      <td>NaN</td>\n",
       "      <td>NaN</td>\n",
       "      <td>NaN</td>\n",
       "      <td>NaN</td>\n",
       "      <td>NaN</td>\n",
       "      <td>NaN</td>\n",
       "      <td>NaN</td>\n",
       "      <td>NaN</td>\n",
       "      <td>NaN</td>\n",
       "      <td>NaN</td>\n",
       "      <td>NaN</td>\n",
       "      <td>NaN</td>\n",
       "      <td>NaN</td>\n",
       "      <td>NaN</td>\n",
       "      <td>NaN</td>\n",
       "      <td>NaN</td>\n",
       "      <td>NaN</td>\n",
       "      <td>NaN</td>\n",
       "      <td>NaN</td>\n",
       "      <td>NaN</td>\n",
       "      <td>NaN</td>\n",
       "      <td>NaN</td>\n",
       "      <td>NaN</td>\n",
       "      <td>NaN</td>\n",
       "      <td>NaN</td>\n",
       "      <td>NaN</td>\n",
       "      <td>NaN</td>\n",
       "      <td>NaN</td>\n",
       "      <td>NaN</td>\n",
       "      <td>NaN</td>\n",
       "      <td>NaN</td>\n",
       "      <td>NaN</td>\n",
       "      <td>Daylight</td>\n",
       "      <td>1.0</td>\n",
       "      <td>Prince George's</td>\n",
       "      <td>16.0</td>\n",
       "      <td>NaN</td>\n",
       "      <td>71.0</td>\n",
       "      <td>NaN</td>\n",
       "      <td>5.01</td>\n",
       "      <td>Same Direction Rear End</td>\n",
       "      <td>3.0</td>\n",
       "      <td>Dry</td>\n",
       "      <td>2.0</td>\n",
       "      <td>Shoulder Area</td>\n",
       "      <td>5.0</td>\n",
       "      <td>No Defects</td>\n",
       "      <td>1.0</td>\n",
       "      <td>Two-way, Divided, Positive Median Barrier</td>\n",
       "      <td>4.0</td>\n",
       "      <td>Not Applicable</td>\n",
       "      <td>0.0</td>\n",
       "      <td>Injury Crash</td>\n",
       "      <td>NaN</td>\n",
       "      <td>6.01</td>\n",
       "      <td>20200605.0</td>\n",
       "      <td>12:22:00</td>\n",
       "      <td>NaN</td>\n",
       "      <td>No</td>\n",
       "      <td>N</td>\n",
       "      <td>N</td>\n",
       "      <td>MSP</td>\n",
       "      <td>UNK</td>\n",
       "      <td>Other Vehicle</td>\n",
       "      <td>1.0</td>\n",
       "      <td>Not Applicable</td>\n",
       "      <td>0.0</td>\n",
       "      <td>95.0</td>\n",
       "      <td>IS</td>\n",
       "      <td>NaN</td>\n",
       "      <td>22.12</td>\n",
       "      <td>North</td>\n",
       "      <td>N</td>\n",
       "      <td>CAPITAL BELTWAY</td>\n",
       "      <td>0.0</td>\n",
       "      <td>Miles</td>\n",
       "      <td>M</td>\n",
       "      <td>N</td>\n",
       "      <td>0.0</td>\n",
       "      <td>UU</td>\n",
       "      <td>NaN</td>\n",
       "      <td>EXIT #22</td>\n",
       "      <td>38.989139</td>\n",
       "      <td>-76.883444</td>\n",
       "      <td>POINT (-76.883443983333 38.9891389)</td>\n",
       "      <td>2020-06-05 12:22:00</td>\n",
       "    </tr>\n",
       "  </tbody>\n",
       "</table>\n",
       "</div>"
      ],
      "text/plain": [
       "  HARM_EVENT_DESC  HARM_EVENT_CODE CONTI_DIRECTION_DESC CONTI_DIRECTION_CODE  \\\n",
       "0   Other Vehicle              1.0                North                    N   \n",
       "1  Not Applicable              0.0                  NaN                  NaN   \n",
       "2             NaN              NaN                  NaN                  NaN   \n",
       "3   Other Vehicle              1.0                North                    N   \n",
       "\n",
       "   DAMAGE_DESC  DAMAGE_CODE          MOVEMENT_DESC  MOVEMENT_CODE  \\\n",
       "0      Unknown         99.0                Unknown           99.0   \n",
       "1   Functional          3.0                 Parked           10.0   \n",
       "2          NaN          NaN                    NaN            NaN   \n",
       "3  Superficial          2.0  Moving Constant Speed            1.0   \n",
       "\n",
       "              VIN_NO    REPORT_NO CV_BODY_TYPE_DESC  CV_BODY_TYPE_CODE  \\\n",
       "0                NaN   AE5057004X               NaN                NaN   \n",
       "1  1GNEL19X95B120644   AE5057004X               NaN                NaN   \n",
       "2                NaN   AE5057004X               NaN                NaN   \n",
       "3  NMTKHMBX0JR025092  MSP7221001P               NaN                NaN   \n",
       "\n",
       "   VEH_YEAR VEH_MAKE VEH_MODEL COMMERCIAL_FLAG_DESC COMMERCIAL_FLAG HZM_NUM  \\\n",
       "0       NaN  UNKNOWN   UNKNOWN                   No               N     NaN   \n",
       "1    2005.0    CHEVY     ASTRO                   No               N     NaN   \n",
       "2       NaN      NaN       NaN                  NaN             NaN     NaN   \n",
       "3    2018.0   TOYOTA     CAMRY                   No               N     NaN   \n",
       "\n",
       "  TOWED_AWAY_FLAG_DESC TOWED_AWAY_FLAG  NUM_AXLES GVW_DESC  GVW_CODE  \\\n",
       "0                   No               N        NaN      NaN       NaN   \n",
       "1                   No               N        NaN      NaN       NaN   \n",
       "2                  NaN             NaN        NaN      NaN       NaN   \n",
       "3                   No               N        NaN      NaN       NaN   \n",
       "\n",
       "  GOING_DIRECTION_DESC GOING_DIRECTION_CODE BODY_TYPE_DESC  BODY_TYPE_CODE  \\\n",
       "0                North                    N            NaN             NaN   \n",
       "1                  NaN                  NaN  Passenger Car             2.0   \n",
       "2                  NaN                  NaN            NaN             NaN   \n",
       "3                North                    N  Passenger Car             2.0   \n",
       "\n",
       "  DRIVERLESS_FLAG_DESC DRIVERLESS_FLAG FIRE_FLAG_DESC FIRE_FLAG  \\\n",
       "0                  NaN               U             No         N   \n",
       "1                  Yes               Y             No         N   \n",
       "2                  NaN             NaN            NaN       NaN   \n",
       "3                   No               N             No         N   \n",
       "\n",
       "  PARKED_FLAG_DESC PARKED_FLAG  SPEED_LIMIT HIT_AND_RUN_FLAG_DESC  \\\n",
       "0               No           N         25.0                   Yes   \n",
       "1              Yes           Y         25.0                    No   \n",
       "2              NaN         NaN          NaN                   NaN   \n",
       "3               No           N         55.0                    No   \n",
       "\n",
       "  HIT_AND_RUN_FLAG HAZMAT_SPILL_FLAG_DESC HAZMAT_SPILL_FLAG  \\\n",
       "0                Y                    NaN               NaN   \n",
       "1                N                    NaN               NaN   \n",
       "2              NaN                    NaN               NaN   \n",
       "3                N                    NaN               NaN   \n",
       "\n",
       "                             VEHICLE_ID TOWED_VEHICLE_CONFIG_DESC  \\\n",
       "0  47e2531d-8c69-470c-9198-502a46c7639e                   Unknown   \n",
       "1  546908c6-3c1d-4433-aff1-f613347f3aad            Not Applicable   \n",
       "2  47e2531d-8c69-470c-9198-502a46c7639e                       NaN   \n",
       "3  0dbd4a00-c7f2-4c34-b543-c2633fe0118f            Not Applicable   \n",
       "\n",
       "   TOWED_VEHICLE_CONFIG_CODE  AREA_DAMAGED_CODE_IMP1  AREA_DAMAGED_CODE1  \\\n",
       "0                       99.0                    11.0                10.0   \n",
       "1                        0.0                    10.0                 7.0   \n",
       "2                        NaN                     NaN                 NaN   \n",
       "3                        0.0                    12.0                 6.0   \n",
       "\n",
       "   AREA_DAMAGED_CODE2  AREA_DAMAGED_CODE3 AREA_DAMAGED_CODE_MAIN_DESC  \\\n",
       "0                11.0                12.0              Eleven o'clock   \n",
       "1                 8.0                10.0               Eight o'clock   \n",
       "2                 NaN                 NaN                         NaN   \n",
       "3                12.0                 NaN              Twelve o'clock   \n",
       "\n",
       "   AREA_DAMAGED_CODE_MAIN  YEAR QUARTER SEX_DESC SEX_CODE CONDITION_DESC  \\\n",
       "0                    11.0  2020      Q2      NaN      NaN            NaN   \n",
       "1                     8.0  2020      Q2      NaN      NaN            NaN   \n",
       "2                     NaN  2020      Q2      NaN      NaN        Unknown   \n",
       "3                    12.0  2020      Q2      NaN      NaN            NaN   \n",
       "\n",
       "   CONDITION_CODE INJ_SEVER_DESC  INJ_SEVER_CODE OCC_SEAT_POS_DESC  \\\n",
       "0             NaN            NaN             NaN               NaN   \n",
       "1             NaN            NaN             NaN               NaN   \n",
       "2            99.0      No Injury             1.0               NaN   \n",
       "3             NaN            NaN             NaN               NaN   \n",
       "\n",
       "   OCC_SEAT_POS_CODE PED_VISIBLE_DESC  PED_VISIBLE_CODE PED_OBEY_DESC  \\\n",
       "0                NaN              NaN               NaN           NaN   \n",
       "1                NaN              NaN               NaN           NaN   \n",
       "2                NaN              NaN               NaN           NaN   \n",
       "3                NaN              NaN               NaN           NaN   \n",
       "\n",
       "   PED_OBEY_CODE PED_TYPE_DESC  PED_TYPE_CODE  PED_LOCATION_CODE  \\\n",
       "0            NaN           NaN            NaN                NaN   \n",
       "1            NaN           NaN            NaN                NaN   \n",
       "2            NaN           NaN            NaN                NaN   \n",
       "3            NaN           NaN            NaN                NaN   \n",
       "\n",
       "  PERSON_TYPE_DESC PERSON_TYPE ALCOHOL_TEST_DESC  ALCOHOL_TEST_CODE  \\\n",
       "0              NaN         NaN               NaN                NaN   \n",
       "1              NaN         NaN               NaN                NaN   \n",
       "2           Driver           D    Not Applicable                0.0   \n",
       "3              NaN         NaN               NaN                NaN   \n",
       "\n",
       "  ALCOHOL_TESTTYPE_DESC  ALCOHOL_TESTTYPE_CODE  DRUG_TEST_DESC  \\\n",
       "0                   NaN                    NaN             NaN   \n",
       "1                   NaN                    NaN             NaN   \n",
       "2                   NaN                    NaN  Not Applicable   \n",
       "3                   NaN                    NaN             NaN   \n",
       "\n",
       "   DRUG_TEST_CODE DRUG_TESTRESULT_DESC DRUG_TESTRESULT_CODE  BAC_CODE  \\\n",
       "0             NaN                  NaN                  NaN       NaN   \n",
       "1             NaN                  NaN                  NaN       NaN   \n",
       "2             0.0                  NaN                  NaN       NaN   \n",
       "3             NaN                  NaN                  NaN       NaN   \n",
       "\n",
       "  FAULT_FLAG_DESC FAULT_FLAG EQUIP_PROB_DESC  EQUIP_PROB_CODE SAF_EQUIP_DESC  \\\n",
       "0             NaN        NaN             NaN              NaN            NaN   \n",
       "1             NaN        NaN             NaN              NaN            NaN   \n",
       "2            True          Y         Unknown             99.0        Unknown   \n",
       "3             NaN        NaN             NaN              NaN            NaN   \n",
       "\n",
       "   SAF_EQUIP_CODE EJECT_DESC  EJECT_CODE DATE_OF_BIRTH  \\\n",
       "0             NaN        NaN         NaN           NaN   \n",
       "1             NaN        NaN         NaN           NaN   \n",
       "2            99.0    Unknown        99.0           NaN   \n",
       "3             NaN        NaN         NaN           NaN   \n",
       "\n",
       "                              PERSON_ID LICENSE_STATE_CODE CLASS  \\\n",
       "0                                   NaN                NaN   NaN   \n",
       "1                                   NaN                NaN   NaN   \n",
       "2  af03961d-5577-4e69-8709-62b279c08bd7                NaN   NaN   \n",
       "3                                   NaN                NaN   NaN   \n",
       "\n",
       "  CDL_FLAG_DESC CDL_FLAG EMS_UNIT_LABEL  AIRBAG_DEPLOYED LIGHT_DESC  \\\n",
       "0           NaN      NaN            NaN              NaN   Daylight   \n",
       "1           NaN      NaN            NaN              NaN   Daylight   \n",
       "2         False    False            NaN              0.0   Daylight   \n",
       "3           NaN      NaN            NaN              NaN   Daylight   \n",
       "\n",
       "   LIGHT_CODE      COUNTY_DESC  COUNTY_NO  MUNI_DESC  MUNI_CODE  \\\n",
       "0         1.0        Baltimore        3.0        NaN        0.0   \n",
       "1         1.0        Baltimore        3.0        NaN        0.0   \n",
       "2         1.0        Baltimore        3.0        NaN        0.0   \n",
       "3         1.0  Prince George's       16.0        NaN       71.0   \n",
       "\n",
       "      JUNCTION_DESC  JUNCTION_CODE      COLLISION_TYPE_DESC  \\\n",
       "0  Non Intersection           1.00                    Other   \n",
       "1  Non Intersection           1.00                    Other   \n",
       "2  Non Intersection           1.00                    Other   \n",
       "3               NaN           5.01  Same Direction Rear End   \n",
       "\n",
       "   COLLISION_TYPE_CODE SURF_COND_DESC  SURF_COND_CODE        LANE_DESC  \\\n",
       "0                 88.0            Dry             2.0  Right Turn Lane   \n",
       "1                 88.0            Dry             2.0  Right Turn Lane   \n",
       "2                 88.0            Dry             2.0  Right Turn Lane   \n",
       "3                  3.0            Dry             2.0    Shoulder Area   \n",
       "\n",
       "   LANE_CODE RD_COND_DESC  RD_COND_CODE  \\\n",
       "0        1.0   No Defects           1.0   \n",
       "1        1.0   No Defects           1.0   \n",
       "2        1.0   No Defects           1.0   \n",
       "3        5.0   No Defects           1.0   \n",
       "\n",
       "                                 RD_DIV_DESC  RD_DIV_CODE    FIX_OBJ_DESC  \\\n",
       "0                       Two-way, Not Divided          1.0  Not Applicable   \n",
       "1                       Two-way, Not Divided          1.0  Not Applicable   \n",
       "2                       Two-way, Not Divided          1.0  Not Applicable   \n",
       "3  Two-way, Divided, Positive Median Barrier          4.0  Not Applicable   \n",
       "\n",
       "   FIX_OBJ_CODE            REPORT_TYPE    WEATHER_DESC  WEATHER_CODE  \\\n",
       "0           0.0  Property Damage Crash  Not Applicable          0.00   \n",
       "1           0.0  Property Damage Crash  Not Applicable          0.00   \n",
       "2           0.0  Property Damage Crash  Not Applicable          0.00   \n",
       "3           0.0           Injury Crash             NaN          6.01   \n",
       "\n",
       "     ACC_DATE  ACC_TIME LOC_CODE SIGNAL_FLAG_DESC SIGNAL_FLAG C_M_ZONE_FLAG  \\\n",
       "0  20200528.0  11:40:00      NaN               No           N             N   \n",
       "1  20200528.0  11:40:00      NaN               No           N             N   \n",
       "2  20200528.0  11:40:00      NaN               No           N             N   \n",
       "3  20200605.0  12:22:00      NaN               No           N             N   \n",
       "\n",
       "  AGENCY_CODE AREA_CODE HARM_EVENT_DESC1  HARM_EVENT_CODE1 HARM_EVENT_DESC2  \\\n",
       "0      BACOPD       UNK    Other Vehicle               1.0   Not Applicable   \n",
       "1      BACOPD       UNK    Other Vehicle               1.0   Not Applicable   \n",
       "2      BACOPD       UNK    Other Vehicle               1.0   Not Applicable   \n",
       "3         MSP       UNK    Other Vehicle               1.0   Not Applicable   \n",
       "\n",
       "   HARM_EVENT_CODE2  RTE_NO ROUTE_TYPE_CODE RTE_SUFFIX  LOG_MILE  \\\n",
       "0               0.0  3073.0              CO        NaN      0.06   \n",
       "1               0.0  3073.0              CO        NaN      0.06   \n",
       "2               0.0  3073.0              CO        NaN      0.06   \n",
       "3               0.0    95.0              IS        NaN     22.12   \n",
       "\n",
       "  LOGMILE_DIR_FLAG_DESC LOGMILE_DIR_FLAG    MAINROAD_NAME  DISTANCE  \\\n",
       "0                 North                N      DOLORES AVE     300.0   \n",
       "1                 North                N      DOLORES AVE     300.0   \n",
       "2                 North                N      DOLORES AVE     300.0   \n",
       "3                 North                N  CAPITAL BELTWAY       0.0   \n",
       "\n",
       "  FEET_MILES_FLAG_DESC FEET_MILES_FLAG DISTANCE_DIR_FLAG  REFERENCE_NO  \\\n",
       "0                 Feet               F                 N        3074.0   \n",
       "1                 Feet               F                 N        3074.0   \n",
       "2                 Feet               F                 N        3074.0   \n",
       "3                Miles               M                 N           0.0   \n",
       "\n",
       "  REFERENCE_TYPE_CODE REFERENCE_SUFFIX REFERENCE_ROAD_NAME   LATITUDE  \\\n",
       "0                  CO              NaN         BREWSTER ST  39.245577   \n",
       "1                  CO              NaN         BREWSTER ST  39.245577   \n",
       "2                  CO              NaN         BREWSTER ST  39.245577   \n",
       "3                  UU              NaN            EXIT #22  38.989139   \n",
       "\n",
       "   LONGITUDE                                  LOCATION   ACCIDENT_DATETIME  \n",
       "0 -76.702305  POINT (-76.702304848438 39.245576553452) 2020-05-28 11:40:00  \n",
       "1 -76.702305  POINT (-76.702304848438 39.245576553452) 2020-05-28 11:40:00  \n",
       "2 -76.702305  POINT (-76.702304848438 39.245576553452) 2020-05-28 11:40:00  \n",
       "3 -76.883444       POINT (-76.883443983333 38.9891389) 2020-06-05 12:22:00  "
      ]
     },
     "execution_count": 12,
     "metadata": {},
     "output_type": "execute_result"
    }
   ],
   "source": [
    "Super_Merge = pd.merge(Vehicle_Personal_Details, VehicleCrashes, how = 'outer', on = ['QUARTER', 'REPORT_NO', 'YEAR'])\n",
    "print(f\"Shape of Merged data  : \", Super_Merge.shape)\n",
    "print(\"================================================\")\n",
    "Super_Merge.head(4)"
   ]
  },
  {
   "cell_type": "markdown",
   "id": "wM4maOcZ4B-C",
   "metadata": {
    "id": "wM4maOcZ4B-C"
   },
   "source": [
    "# **Data Cleaning**"
   ]
  },
  {
   "cell_type": "markdown",
   "id": "MZLw7kXcce58",
   "metadata": {
    "id": "MZLw7kXcce58"
   },
   "source": [
    "##Step 1: Removing of Redundant columns from the merged datasets of 2020 and 2021"
   ]
  },
  {
   "cell_type": "code",
   "execution_count": 13,
   "id": "FVYwrWh1w_yc",
   "metadata": {
    "colab": {
     "base_uri": "https://localhost:8080/"
    },
    "id": "FVYwrWh1w_yc",
    "outputId": "8bc217a5-cd86-4bc3-9703-c7842b1f4272"
   },
   "outputs": [
    {
     "name": "stdout",
     "output_type": "stream",
     "text": [
      "Shape of Merged datasets with relevant data (688442, 43)\n",
      "==================================================================\n"
     ]
    }
   ],
   "source": [
    "## Removing the Redundant Columns and Selecting the columns which would be using  as per our story Analysis.\n",
    "\n",
    "Super_Merge_df = Super_Merge[['REPORT_NO','QUARTER','ACCIDENT_DATETIME','LOCATION','LATITUDE','LONGITUDE','MAINROAD_NAME','AGENCY_CODE','AREA_CODE','REPORT_TYPE','WEATHER_DESC','WEATHER_CODE','RD_DIV_DESC','RD_DIV_CODE','LANE_DESC','LANE_CODE','COLLISION_TYPE_DESC','COLLISION_TYPE_CODE','JUNCTION_DESC','JUNCTION_CODE','COUNTY_DESC','COUNTY_NO','LIGHT_DESC','LIGHT_CODE','DATE_OF_BIRTH','SEX_DESC','SEX_CODE','YEAR','AREA_DAMAGED_CODE_MAIN_DESC','AREA_DAMAGED_CODE_MAIN','SPEED_LIMIT','VEH_YEAR','VEH_MAKE','VEH_MODEL','PERSON_TYPE_DESC','SAF_EQUIP_DESC','LICENSE_STATE_CODE','EJECT_DESC','EQUIP_PROB_DESC','DRUG_TESTRESULT_DESC','DAMAGE_DESC','CONTI_DIRECTION_DESC','INJ_SEVER_CODE']]\n",
    "\n",
    "print(f\"Shape of Merged datasets with relevant data\", Super_Merge_df.shape)\n",
    "print(\"==================================================================\")\n",
    "#Super_Merge_df.head()"
   ]
  },
  {
   "cell_type": "markdown",
   "id": "cUFp_GVVcrdo",
   "metadata": {
    "id": "cUFp_GVVcrdo"
   },
   "source": [
    "## Step 2: Checking for Duplicate data and dropping the duplicate data from the merged datasets"
   ]
  },
  {
   "cell_type": "code",
   "execution_count": 14,
   "id": "TgimvMuLnlAk",
   "metadata": {
    "colab": {
     "base_uri": "https://localhost:8080/"
    },
    "id": "TgimvMuLnlAk",
    "outputId": "4a4190af-1f3f-4748-d991-ae4de156c7e2"
   },
   "outputs": [
    {
     "data": {
      "text/plain": [
       "False    687375\n",
       "True       1067\n",
       "dtype: int64"
      ]
     },
     "execution_count": 14,
     "metadata": {},
     "output_type": "execute_result"
    }
   ],
   "source": [
    "## Checking the Count Of Duplicate Values in the above data set\n",
    "\n",
    "Super_Merge_df.duplicated().value_counts()"
   ]
  },
  {
   "cell_type": "code",
   "execution_count": 15,
   "id": "3c_OkFooleBc",
   "metadata": {
    "id": "3c_OkFooleBc"
   },
   "outputs": [],
   "source": [
    "## Dropping the Duplicate records\n",
    "Super_Merge_df = Super_Merge_df.drop_duplicates()"
   ]
  },
  {
   "cell_type": "code",
   "execution_count": 17,
   "id": "Vef0-7k_qMtC",
   "metadata": {
    "colab": {
     "base_uri": "https://localhost:8080/"
    },
    "id": "Vef0-7k_qMtC",
    "outputId": "93226e2b-9766-4ee5-d2ed-782211ccb329"
   },
   "outputs": [
    {
     "data": {
      "text/plain": [
       "False    687375\n",
       "dtype: int64"
      ]
     },
     "execution_count": 17,
     "metadata": {},
     "output_type": "execute_result"
    }
   ],
   "source": [
    "# After Removing the duplicates\n",
    "Super_Merge_df.duplicated().value_counts()"
   ]
  },
  {
   "cell_type": "markdown",
   "id": "OG3anCnndDcY",
   "metadata": {
    "id": "OG3anCnndDcY"
   },
   "source": [
    "##Step 3: Handling missing values for few columns from the merged datasets"
   ]
  },
  {
   "cell_type": "code",
   "execution_count": 18,
   "id": "PZpDORLkrBLY",
   "metadata": {
    "colab": {
     "base_uri": "https://localhost:8080/"
    },
    "id": "PZpDORLkrBLY",
    "outputId": "22728d55-62c7-4a71-8ac1-cffc27e2741c"
   },
   "outputs": [
    {
     "data": {
      "text/plain": [
       "NaN               685414\n",
       "Unknown             1063\n",
       "Not Applicable       579\n",
       "Positive             221\n",
       "Negative              98\n",
       "Name: DRUG_TESTRESULT_DESC, dtype: int64"
      ]
     },
     "execution_count": 18,
     "metadata": {},
     "output_type": "execute_result"
    }
   ],
   "source": [
    "## We will try to look it into the column 'DRUG_TESTRESULT_DESC'\n",
    "## There are many Nan Values\n",
    "\n",
    "Super_Merge_df.DRUG_TESTRESULT_DESC.value_counts(dropna = False)"
   ]
  },
  {
   "cell_type": "code",
   "execution_count": 19,
   "id": "fOkTMhKGrymh",
   "metadata": {
    "colab": {
     "base_uri": "https://localhost:8080/"
    },
    "id": "fOkTMhKGrymh",
    "outputId": "c181e36e-9a1d-4411-ea14-f9b8f4c19804"
   },
   "outputs": [
    {
     "data": {
      "text/plain": [
       "Not Reported      685414\n",
       "Unknown             1063\n",
       "Not Applicable       579\n",
       "Positive             221\n",
       "Negative              98\n",
       "Name: DRUG_TESTRESULT_DESC, dtype: int64"
      ]
     },
     "execution_count": 19,
     "metadata": {},
     "output_type": "execute_result"
    }
   ],
   "source": [
    "#### Filling of missing values for Drug test results \n",
    "#### Nan with Not reported\n",
    "Super_Merge_df['DRUG_TESTRESULT_DESC'] = Super_Merge_df['DRUG_TESTRESULT_DESC'].fillna(\"Not Reported\")\n",
    "#### Now Nan values will be replaced\n",
    "\n",
    "Super_Merge_df.DRUG_TESTRESULT_DESC.value_counts(dropna = False)"
   ]
  },
  {
   "cell_type": "code",
   "execution_count": 20,
   "id": "9j_woSjUm_eV",
   "metadata": {
    "colab": {
     "base_uri": "https://localhost:8080/"
    },
    "id": "9j_woSjUm_eV",
    "outputId": "668771ec-9636-4ce7-8244-c9309c816907"
   },
   "outputs": [
    {
     "data": {
      "text/plain": [
       "Daylight          429367\n",
       "Dark Lights On    157334\n",
       "Not mentioned      41344\n",
       "Dark No Lights     37482\n",
       "Not Applicable     11923\n",
       "Unknown             7848\n",
       "Other               2077\n",
       "Name: LIGHT_DESC, dtype: int64"
      ]
     },
     "execution_count": 20,
     "metadata": {},
     "output_type": "execute_result"
    }
   ],
   "source": [
    "### Filling of missing values for light conditions \n",
    "#### Nan with Not mentioned\n",
    "Super_Merge_df['LIGHT_DESC'] = Super_Merge_df['LIGHT_DESC'].fillna(\"Not mentioned\")\n",
    "#### Now Nan values will be replaced\n",
    "\n",
    "Super_Merge_df.LIGHT_DESC.value_counts(dropna = False)"
   ]
  },
  {
   "cell_type": "code",
   "execution_count": 21,
   "id": "lKRysGh1e61W",
   "metadata": {
    "colab": {
     "base_uri": "https://localhost:8080/"
    },
    "id": "lKRysGh1e61W",
    "outputId": "766e7c0b-6af3-4581-dd8e-5606b4b12ca9"
   },
   "outputs": [
    {
     "data": {
      "text/plain": [
       "0.0       390501\n",
       "2016.0     22053\n",
       "2017.0     21183\n",
       "2015.0     20748\n",
       "2019.0     18827\n",
       "Name: VEH_YEAR, dtype: int64"
      ]
     },
     "execution_count": 21,
     "metadata": {},
     "output_type": "execute_result"
    }
   ],
   "source": [
    "##  'VEH_YEAR'\n",
    "#### Nan Values are replaced with o\n",
    "Super_Merge_df['VEH_YEAR'] = Super_Merge_df['VEH_YEAR'].fillna(0)\n",
    "\n",
    "Super_Merge_df.VEH_YEAR.value_counts(dropna = False).head()"
   ]
  },
  {
   "cell_type": "markdown",
   "id": "wQBHjsBxyGfS",
   "metadata": {
    "id": "wQBHjsBxyGfS"
   },
   "source": [
    "# **EDA (Exploratory Data Analysis)**\n"
   ]
  },
  {
   "cell_type": "markdown",
   "id": "7bP2HVEedXHw",
   "metadata": {
    "id": "7bP2HVEedXHw"
   },
   "source": [
    "Printing the first five rows of merged and cleaned datasets"
   ]
  },
  {
   "cell_type": "code",
   "execution_count": 22,
   "id": "nFbfNG0x9hIT",
   "metadata": {
    "colab": {
     "base_uri": "https://localhost:8080/",
     "height": 513
    },
    "id": "nFbfNG0x9hIT",
    "outputId": "766ed4ae-2d6d-404e-faee-651a5e8e28f7"
   },
   "outputs": [
    {
     "data": {
      "text/html": [
       "<div>\n",
       "<style scoped>\n",
       "    .dataframe tbody tr th:only-of-type {\n",
       "        vertical-align: middle;\n",
       "    }\n",
       "\n",
       "    .dataframe tbody tr th {\n",
       "        vertical-align: top;\n",
       "    }\n",
       "\n",
       "    .dataframe thead th {\n",
       "        text-align: right;\n",
       "    }\n",
       "</style>\n",
       "<table border=\"1\" class=\"dataframe\">\n",
       "  <thead>\n",
       "    <tr style=\"text-align: right;\">\n",
       "      <th></th>\n",
       "      <th>REPORT_NO</th>\n",
       "      <th>QUARTER</th>\n",
       "      <th>ACCIDENT_DATETIME</th>\n",
       "      <th>LOCATION</th>\n",
       "      <th>LATITUDE</th>\n",
       "      <th>LONGITUDE</th>\n",
       "      <th>MAINROAD_NAME</th>\n",
       "      <th>AGENCY_CODE</th>\n",
       "      <th>AREA_CODE</th>\n",
       "      <th>REPORT_TYPE</th>\n",
       "      <th>WEATHER_DESC</th>\n",
       "      <th>WEATHER_CODE</th>\n",
       "      <th>RD_DIV_DESC</th>\n",
       "      <th>RD_DIV_CODE</th>\n",
       "      <th>LANE_DESC</th>\n",
       "      <th>LANE_CODE</th>\n",
       "      <th>COLLISION_TYPE_DESC</th>\n",
       "      <th>COLLISION_TYPE_CODE</th>\n",
       "      <th>JUNCTION_DESC</th>\n",
       "      <th>JUNCTION_CODE</th>\n",
       "      <th>COUNTY_DESC</th>\n",
       "      <th>COUNTY_NO</th>\n",
       "      <th>LIGHT_DESC</th>\n",
       "      <th>LIGHT_CODE</th>\n",
       "      <th>DATE_OF_BIRTH</th>\n",
       "      <th>SEX_DESC</th>\n",
       "      <th>SEX_CODE</th>\n",
       "      <th>YEAR</th>\n",
       "      <th>AREA_DAMAGED_CODE_MAIN_DESC</th>\n",
       "      <th>AREA_DAMAGED_CODE_MAIN</th>\n",
       "      <th>SPEED_LIMIT</th>\n",
       "      <th>VEH_YEAR</th>\n",
       "      <th>VEH_MAKE</th>\n",
       "      <th>VEH_MODEL</th>\n",
       "      <th>PERSON_TYPE_DESC</th>\n",
       "      <th>SAF_EQUIP_DESC</th>\n",
       "      <th>LICENSE_STATE_CODE</th>\n",
       "      <th>EJECT_DESC</th>\n",
       "      <th>EQUIP_PROB_DESC</th>\n",
       "      <th>DRUG_TESTRESULT_DESC</th>\n",
       "      <th>DAMAGE_DESC</th>\n",
       "      <th>CONTI_DIRECTION_DESC</th>\n",
       "      <th>INJ_SEVER_CODE</th>\n",
       "    </tr>\n",
       "  </thead>\n",
       "  <tbody>\n",
       "    <tr>\n",
       "      <th>0</th>\n",
       "      <td>AE5057004X</td>\n",
       "      <td>Q2</td>\n",
       "      <td>2020-05-28 11:40:00</td>\n",
       "      <td>POINT (-76.702304848438 39.245576553452)</td>\n",
       "      <td>39.245577</td>\n",
       "      <td>-76.702305</td>\n",
       "      <td>DOLORES AVE</td>\n",
       "      <td>BACOPD</td>\n",
       "      <td>UNK</td>\n",
       "      <td>Property Damage Crash</td>\n",
       "      <td>Not Applicable</td>\n",
       "      <td>0.00</td>\n",
       "      <td>Two-way, Not Divided</td>\n",
       "      <td>1.0</td>\n",
       "      <td>Right Turn Lane</td>\n",
       "      <td>1.0</td>\n",
       "      <td>Other</td>\n",
       "      <td>88.0</td>\n",
       "      <td>Non Intersection</td>\n",
       "      <td>1.00</td>\n",
       "      <td>Baltimore</td>\n",
       "      <td>3.0</td>\n",
       "      <td>Daylight</td>\n",
       "      <td>1.0</td>\n",
       "      <td>NaN</td>\n",
       "      <td>NaN</td>\n",
       "      <td>NaN</td>\n",
       "      <td>2020</td>\n",
       "      <td>Eleven o'clock</td>\n",
       "      <td>11.0</td>\n",
       "      <td>25.0</td>\n",
       "      <td>0.0</td>\n",
       "      <td>UNKNOWN</td>\n",
       "      <td>UNKNOWN</td>\n",
       "      <td>NaN</td>\n",
       "      <td>NaN</td>\n",
       "      <td>NaN</td>\n",
       "      <td>NaN</td>\n",
       "      <td>NaN</td>\n",
       "      <td>Not Reported</td>\n",
       "      <td>Unknown</td>\n",
       "      <td>North</td>\n",
       "      <td>NaN</td>\n",
       "    </tr>\n",
       "    <tr>\n",
       "      <th>1</th>\n",
       "      <td>AE5057004X</td>\n",
       "      <td>Q2</td>\n",
       "      <td>2020-05-28 11:40:00</td>\n",
       "      <td>POINT (-76.702304848438 39.245576553452)</td>\n",
       "      <td>39.245577</td>\n",
       "      <td>-76.702305</td>\n",
       "      <td>DOLORES AVE</td>\n",
       "      <td>BACOPD</td>\n",
       "      <td>UNK</td>\n",
       "      <td>Property Damage Crash</td>\n",
       "      <td>Not Applicable</td>\n",
       "      <td>0.00</td>\n",
       "      <td>Two-way, Not Divided</td>\n",
       "      <td>1.0</td>\n",
       "      <td>Right Turn Lane</td>\n",
       "      <td>1.0</td>\n",
       "      <td>Other</td>\n",
       "      <td>88.0</td>\n",
       "      <td>Non Intersection</td>\n",
       "      <td>1.00</td>\n",
       "      <td>Baltimore</td>\n",
       "      <td>3.0</td>\n",
       "      <td>Daylight</td>\n",
       "      <td>1.0</td>\n",
       "      <td>NaN</td>\n",
       "      <td>NaN</td>\n",
       "      <td>NaN</td>\n",
       "      <td>2020</td>\n",
       "      <td>Eight o'clock</td>\n",
       "      <td>8.0</td>\n",
       "      <td>25.0</td>\n",
       "      <td>2005.0</td>\n",
       "      <td>CHEVY</td>\n",
       "      <td>ASTRO</td>\n",
       "      <td>NaN</td>\n",
       "      <td>NaN</td>\n",
       "      <td>NaN</td>\n",
       "      <td>NaN</td>\n",
       "      <td>NaN</td>\n",
       "      <td>Not Reported</td>\n",
       "      <td>Functional</td>\n",
       "      <td>NaN</td>\n",
       "      <td>NaN</td>\n",
       "    </tr>\n",
       "    <tr>\n",
       "      <th>2</th>\n",
       "      <td>AE5057004X</td>\n",
       "      <td>Q2</td>\n",
       "      <td>2020-05-28 11:40:00</td>\n",
       "      <td>POINT (-76.702304848438 39.245576553452)</td>\n",
       "      <td>39.245577</td>\n",
       "      <td>-76.702305</td>\n",
       "      <td>DOLORES AVE</td>\n",
       "      <td>BACOPD</td>\n",
       "      <td>UNK</td>\n",
       "      <td>Property Damage Crash</td>\n",
       "      <td>Not Applicable</td>\n",
       "      <td>0.00</td>\n",
       "      <td>Two-way, Not Divided</td>\n",
       "      <td>1.0</td>\n",
       "      <td>Right Turn Lane</td>\n",
       "      <td>1.0</td>\n",
       "      <td>Other</td>\n",
       "      <td>88.0</td>\n",
       "      <td>Non Intersection</td>\n",
       "      <td>1.00</td>\n",
       "      <td>Baltimore</td>\n",
       "      <td>3.0</td>\n",
       "      <td>Daylight</td>\n",
       "      <td>1.0</td>\n",
       "      <td>NaN</td>\n",
       "      <td>NaN</td>\n",
       "      <td>NaN</td>\n",
       "      <td>2020</td>\n",
       "      <td>NaN</td>\n",
       "      <td>NaN</td>\n",
       "      <td>NaN</td>\n",
       "      <td>0.0</td>\n",
       "      <td>NaN</td>\n",
       "      <td>NaN</td>\n",
       "      <td>Driver</td>\n",
       "      <td>Unknown</td>\n",
       "      <td>NaN</td>\n",
       "      <td>Unknown</td>\n",
       "      <td>Unknown</td>\n",
       "      <td>Not Reported</td>\n",
       "      <td>NaN</td>\n",
       "      <td>NaN</td>\n",
       "      <td>1.0</td>\n",
       "    </tr>\n",
       "    <tr>\n",
       "      <th>3</th>\n",
       "      <td>MSP7221001P</td>\n",
       "      <td>Q2</td>\n",
       "      <td>2020-06-05 12:22:00</td>\n",
       "      <td>POINT (-76.883443983333 38.9891389)</td>\n",
       "      <td>38.989139</td>\n",
       "      <td>-76.883444</td>\n",
       "      <td>CAPITAL BELTWAY</td>\n",
       "      <td>MSP</td>\n",
       "      <td>UNK</td>\n",
       "      <td>Injury Crash</td>\n",
       "      <td>NaN</td>\n",
       "      <td>6.01</td>\n",
       "      <td>Two-way, Divided, Positive Median Barrier</td>\n",
       "      <td>4.0</td>\n",
       "      <td>Shoulder Area</td>\n",
       "      <td>5.0</td>\n",
       "      <td>Same Direction Rear End</td>\n",
       "      <td>3.0</td>\n",
       "      <td>NaN</td>\n",
       "      <td>5.01</td>\n",
       "      <td>Prince George's</td>\n",
       "      <td>16.0</td>\n",
       "      <td>Daylight</td>\n",
       "      <td>1.0</td>\n",
       "      <td>NaN</td>\n",
       "      <td>NaN</td>\n",
       "      <td>NaN</td>\n",
       "      <td>2020</td>\n",
       "      <td>Twelve o'clock</td>\n",
       "      <td>12.0</td>\n",
       "      <td>55.0</td>\n",
       "      <td>2018.0</td>\n",
       "      <td>TOYOTA</td>\n",
       "      <td>CAMRY</td>\n",
       "      <td>NaN</td>\n",
       "      <td>NaN</td>\n",
       "      <td>NaN</td>\n",
       "      <td>NaN</td>\n",
       "      <td>NaN</td>\n",
       "      <td>Not Reported</td>\n",
       "      <td>Superficial</td>\n",
       "      <td>North</td>\n",
       "      <td>NaN</td>\n",
       "    </tr>\n",
       "    <tr>\n",
       "      <th>4</th>\n",
       "      <td>MSP7221001P</td>\n",
       "      <td>Q2</td>\n",
       "      <td>2020-06-05 12:22:00</td>\n",
       "      <td>POINT (-76.883443983333 38.9891389)</td>\n",
       "      <td>38.989139</td>\n",
       "      <td>-76.883444</td>\n",
       "      <td>CAPITAL BELTWAY</td>\n",
       "      <td>MSP</td>\n",
       "      <td>UNK</td>\n",
       "      <td>Injury Crash</td>\n",
       "      <td>NaN</td>\n",
       "      <td>6.01</td>\n",
       "      <td>Two-way, Divided, Positive Median Barrier</td>\n",
       "      <td>4.0</td>\n",
       "      <td>Shoulder Area</td>\n",
       "      <td>5.0</td>\n",
       "      <td>Same Direction Rear End</td>\n",
       "      <td>3.0</td>\n",
       "      <td>NaN</td>\n",
       "      <td>5.01</td>\n",
       "      <td>Prince George's</td>\n",
       "      <td>16.0</td>\n",
       "      <td>Daylight</td>\n",
       "      <td>1.0</td>\n",
       "      <td>NaN</td>\n",
       "      <td>NaN</td>\n",
       "      <td>NaN</td>\n",
       "      <td>2020</td>\n",
       "      <td>Twelve o'clock</td>\n",
       "      <td>12.0</td>\n",
       "      <td>55.0</td>\n",
       "      <td>2017.0</td>\n",
       "      <td>TOYOTA</td>\n",
       "      <td>RAV 4</td>\n",
       "      <td>NaN</td>\n",
       "      <td>NaN</td>\n",
       "      <td>NaN</td>\n",
       "      <td>NaN</td>\n",
       "      <td>NaN</td>\n",
       "      <td>Not Reported</td>\n",
       "      <td>Disabling</td>\n",
       "      <td>North</td>\n",
       "      <td>NaN</td>\n",
       "    </tr>\n",
       "  </tbody>\n",
       "</table>\n",
       "</div>"
      ],
      "text/plain": [
       "     REPORT_NO QUARTER   ACCIDENT_DATETIME  \\\n",
       "0   AE5057004X      Q2 2020-05-28 11:40:00   \n",
       "1   AE5057004X      Q2 2020-05-28 11:40:00   \n",
       "2   AE5057004X      Q2 2020-05-28 11:40:00   \n",
       "3  MSP7221001P      Q2 2020-06-05 12:22:00   \n",
       "4  MSP7221001P      Q2 2020-06-05 12:22:00   \n",
       "\n",
       "                                   LOCATION   LATITUDE  LONGITUDE  \\\n",
       "0  POINT (-76.702304848438 39.245576553452)  39.245577 -76.702305   \n",
       "1  POINT (-76.702304848438 39.245576553452)  39.245577 -76.702305   \n",
       "2  POINT (-76.702304848438 39.245576553452)  39.245577 -76.702305   \n",
       "3       POINT (-76.883443983333 38.9891389)  38.989139 -76.883444   \n",
       "4       POINT (-76.883443983333 38.9891389)  38.989139 -76.883444   \n",
       "\n",
       "     MAINROAD_NAME AGENCY_CODE AREA_CODE            REPORT_TYPE  \\\n",
       "0      DOLORES AVE      BACOPD       UNK  Property Damage Crash   \n",
       "1      DOLORES AVE      BACOPD       UNK  Property Damage Crash   \n",
       "2      DOLORES AVE      BACOPD       UNK  Property Damage Crash   \n",
       "3  CAPITAL BELTWAY         MSP       UNK           Injury Crash   \n",
       "4  CAPITAL BELTWAY         MSP       UNK           Injury Crash   \n",
       "\n",
       "     WEATHER_DESC  WEATHER_CODE                                RD_DIV_DESC  \\\n",
       "0  Not Applicable          0.00                       Two-way, Not Divided   \n",
       "1  Not Applicable          0.00                       Two-way, Not Divided   \n",
       "2  Not Applicable          0.00                       Two-way, Not Divided   \n",
       "3             NaN          6.01  Two-way, Divided, Positive Median Barrier   \n",
       "4             NaN          6.01  Two-way, Divided, Positive Median Barrier   \n",
       "\n",
       "   RD_DIV_CODE        LANE_DESC  LANE_CODE      COLLISION_TYPE_DESC  \\\n",
       "0          1.0  Right Turn Lane        1.0                    Other   \n",
       "1          1.0  Right Turn Lane        1.0                    Other   \n",
       "2          1.0  Right Turn Lane        1.0                    Other   \n",
       "3          4.0    Shoulder Area        5.0  Same Direction Rear End   \n",
       "4          4.0    Shoulder Area        5.0  Same Direction Rear End   \n",
       "\n",
       "   COLLISION_TYPE_CODE     JUNCTION_DESC  JUNCTION_CODE      COUNTY_DESC  \\\n",
       "0                 88.0  Non Intersection           1.00        Baltimore   \n",
       "1                 88.0  Non Intersection           1.00        Baltimore   \n",
       "2                 88.0  Non Intersection           1.00        Baltimore   \n",
       "3                  3.0               NaN           5.01  Prince George's   \n",
       "4                  3.0               NaN           5.01  Prince George's   \n",
       "\n",
       "   COUNTY_NO LIGHT_DESC  LIGHT_CODE DATE_OF_BIRTH SEX_DESC SEX_CODE  YEAR  \\\n",
       "0        3.0   Daylight         1.0           NaN      NaN      NaN  2020   \n",
       "1        3.0   Daylight         1.0           NaN      NaN      NaN  2020   \n",
       "2        3.0   Daylight         1.0           NaN      NaN      NaN  2020   \n",
       "3       16.0   Daylight         1.0           NaN      NaN      NaN  2020   \n",
       "4       16.0   Daylight         1.0           NaN      NaN      NaN  2020   \n",
       "\n",
       "  AREA_DAMAGED_CODE_MAIN_DESC  AREA_DAMAGED_CODE_MAIN  SPEED_LIMIT  VEH_YEAR  \\\n",
       "0              Eleven o'clock                    11.0         25.0       0.0   \n",
       "1               Eight o'clock                     8.0         25.0    2005.0   \n",
       "2                         NaN                     NaN          NaN       0.0   \n",
       "3              Twelve o'clock                    12.0         55.0    2018.0   \n",
       "4              Twelve o'clock                    12.0         55.0    2017.0   \n",
       "\n",
       "  VEH_MAKE VEH_MODEL PERSON_TYPE_DESC SAF_EQUIP_DESC LICENSE_STATE_CODE  \\\n",
       "0  UNKNOWN   UNKNOWN              NaN            NaN                NaN   \n",
       "1    CHEVY     ASTRO              NaN            NaN                NaN   \n",
       "2      NaN       NaN           Driver        Unknown                NaN   \n",
       "3   TOYOTA     CAMRY              NaN            NaN                NaN   \n",
       "4   TOYOTA     RAV 4              NaN            NaN                NaN   \n",
       "\n",
       "  EJECT_DESC EQUIP_PROB_DESC DRUG_TESTRESULT_DESC  DAMAGE_DESC  \\\n",
       "0        NaN             NaN         Not Reported      Unknown   \n",
       "1        NaN             NaN         Not Reported   Functional   \n",
       "2    Unknown         Unknown         Not Reported          NaN   \n",
       "3        NaN             NaN         Not Reported  Superficial   \n",
       "4        NaN             NaN         Not Reported    Disabling   \n",
       "\n",
       "  CONTI_DIRECTION_DESC  INJ_SEVER_CODE  \n",
       "0                North             NaN  \n",
       "1                  NaN             NaN  \n",
       "2                  NaN             1.0  \n",
       "3                North             NaN  \n",
       "4                North             NaN  "
      ]
     },
     "execution_count": 22,
     "metadata": {},
     "output_type": "execute_result"
    }
   ],
   "source": [
    "#Getting the Top 5 records to explore the data set\n",
    "Super_Merge_df.head()"
   ]
  },
  {
   "cell_type": "code",
   "execution_count": 23,
   "id": "APndWIQYMUfT",
   "metadata": {
    "colab": {
     "base_uri": "https://localhost:8080/"
    },
    "id": "APndWIQYMUfT",
    "outputId": "4415dcb7-373f-4c5d-ebc4-ba705b612bf6"
   },
   "outputs": [],
   "source": [
    "## Concise summary of a DataFrame.\n",
    "##  info related to datatypes, null value etc\n",
    "#Super_Merge_df.info(verbose=True)"
   ]
  },
  {
   "cell_type": "markdown",
   "id": "a_-ZCnnrTeEW",
   "metadata": {
    "id": "a_-ZCnnrTeEW"
   },
   "source": [
    "#### Created datasets to analyze data seperately for years 2020 and 2021"
   ]
  },
  {
   "cell_type": "code",
   "execution_count": 24,
   "id": "A_Xo7DK5TtdF",
   "metadata": {
    "id": "A_Xo7DK5TtdF"
   },
   "outputs": [],
   "source": [
    "year_2020 = Super_Merge_df[Super_Merge_df.YEAR == 2020]\n",
    "year_2021 = Super_Merge_df[Super_Merge_df.YEAR == 2021]"
   ]
  },
  {
   "cell_type": "markdown",
   "id": "bVd642VpySx0",
   "metadata": {
    "id": "bVd642VpySx0"
   },
   "source": [
    "**Heat map for null values**"
   ]
  },
  {
   "cell_type": "markdown",
   "id": "0tcbG8t0djwF",
   "metadata": {
    "id": "0tcbG8t0djwF"
   },
   "source": [
    "Vizualizing all the null values after merging and data cleaning, to check the reliability of columns."
   ]
  },
  {
   "cell_type": "code",
   "execution_count": 24,
   "id": "_QPbstjtMUit",
   "metadata": {
    "colab": {
     "base_uri": "https://localhost:8080/",
     "height": 891
    },
    "id": "_QPbstjtMUit",
    "outputId": "ee632308-dc8e-4b1e-a0eb-0440ff808801"
   },
   "outputs": [
    {
     "data": {
      "text/plain": [
       "<matplotlib.axes._subplots.AxesSubplot at 0x7f3427041510>"
      ]
     },
     "execution_count": 24,
     "metadata": {},
     "output_type": "execute_result"
    },
    {
     "data": {
      "image/png": "[encoded data removed]",
      "text/plain": [
       "<Figure size 1440x864 with 2 Axes>"
      ]
     },
     "metadata": {
      "needs_background": "light"
     },
     "output_type": "display_data"
    }
   ],
   "source": [
    "#Some columns are having missing values\n",
    "#color with blacks are having least numbr of null values and white color with more null values\n",
    "plt.figure(figsize=(20,12))\n",
    "sns.heatmap(Super_Merge_df.isnull(), yticklabels=False)"
   ]
  },
  {
   "cell_type": "markdown",
   "id": "JljVbnzYoV1r",
   "metadata": {
    "id": "JljVbnzYoV1r"
   },
   "source": [
    "**From the trends in data, 2020 and 2021 years had Lowest number of crashes. So, we will be exploring more from the 2020 and 2021 data**\n",
    "**Note: Only for this we have used VehicleCrashes Dataset. BUT for our entire Project we will be using all the three data sets**\n",
    "\n",
    "From the pattern, 2020 and 2021 recorded less number of crashes"
   ]
  },
  {
   "cell_type": "code",
   "execution_count": 25,
   "id": "cLaJV5weoinW",
   "metadata": {
    "colab": {
     "base_uri": "https://localhost:8080/",
     "height": 468
    },
    "id": "cLaJV5weoinW",
    "outputId": "2c36ce62-1081-4b4a-b618-5b852f614c63"
   },
   "outputs": [
    {
     "data": {
      "image/png": "[encoded data removed]",
      "text/plain": [
       "<Figure size 1296x432 with 1 Axes>"
      ]
     },
     "metadata": {
      "needs_background": "light"
     },
     "output_type": "display_data"
    }
   ],
   "source": [
    "plt.figure(figsize=(18,6))\n",
    "ax = sns.countplot(data=VehicleCrashes_df,x='YEAR',order = VehicleCrashes_df['YEAR'].value_counts().index)\n",
    "ax.set_xticklabels(ax.get_xticklabels(), rotation=90)\n",
    "ax.set_title('\\nVehicle crashes in the past 7 years in Maryland USA\\n', fontsize=20);\n",
    "plt.show()"
   ]
  },
  {
   "cell_type": "markdown",
   "id": "T45vIGys0veh",
   "metadata": {
    "id": "T45vIGys0veh"
   },
   "source": [
    "# **In sights:**\n",
    "\n",
    "\n"
   ]
  },
  {
   "cell_type": "markdown",
   "id": "JjqUGKa8QAJt",
   "metadata": {
    "id": "JjqUGKa8QAJt"
   },
   "source": [
    "##Location Analysis"
   ]
  },
  {
   "cell_type": "code",
   "execution_count": 26,
   "id": "44NzSD3o1dhQ",
   "metadata": {
    "colab": {
     "base_uri": "https://localhost:8080/",
     "height": 645
    },
    "id": "44NzSD3o1dhQ",
    "outputId": "04945353-b223-4af5-de4d-bcda4d7876bf"
   },
   "outputs": [
    {
     "data": {
      "image/png": "[encoded data removed]",
      "text/plain": [
       "<Figure size 1152x288 with 1 Axes>"
      ]
     },
     "metadata": {
      "needs_background": "light"
     },
     "output_type": "display_data"
    },
    {
     "data": {
      "image/png": "[encoded data removed]",
      "text/plain": [
       "<Figure size 1152x288 with 2 Axes>"
      ]
     },
     "metadata": {
      "needs_background": "light"
     },
     "output_type": "display_data"
    }
   ],
   "source": [
    "\n",
    "#1) Accidents happened in the year '2020 and 2021'\n",
    "plt.figure(figsize=(16,4))\n",
    "ax = sns.countplot(data=Super_Merge_df,x='COUNTY_DESC',order = Super_Merge_df['COUNTY_DESC'].value_counts().index)\n",
    "ax.set_xticklabels(ax.get_xticklabels(), rotation=90)\n",
    "ax.set_title('Accidents in different Counties in 2020 and 2021')\n",
    "plt.show()\n",
    "\n",
    "#2)  Accidents happened in the year '2020' and  Accidents happened in the year '2021' --'SEPARATELY'\n",
    "fig, ax =plt.subplots(1,2,tight_layout=True,figsize=(16,4))\n",
    "ax1 = sns.countplot(data=year_2020,x='COUNTY_DESC', ax=ax[0],order = year_2020['COUNTY_DESC'].value_counts().index)\n",
    "ax1.set_xticklabels(ax1.get_xticklabels(), rotation=90)\n",
    "ax1.set_title('Accidents in different Counties in 2020')\n",
    "\n",
    "ax2 = sns.countplot(data=year_2021,x='COUNTY_DESC', ax=ax[1],order = year_2021['COUNTY_DESC'].value_counts().index)\n",
    "ax2.set_xticklabels(ax2.get_xticklabels(), rotation=90)\n",
    "ax2.set_title('Accidents in different Counties in 2021')\n",
    "\n",
    "fig.show()\n"
   ]
  },
  {
   "cell_type": "markdown",
   "id": "yg6QabvtWZ0I",
   "metadata": {
    "id": "yg6QabvtWZ0I"
   },
   "source": [
    " \n",
    "\n",
    "*   According to Maryland demographics even though Montgomery county is the highest populous county in maryland in terms of crashes it is ranked 4th. So population may not be reason for highest crashes.\n",
    "*   We then started looking at county wise crashes for the year 2020 and 2021 seperately. \n",
    "\n",
    "Reference: https://www.maryland-demographics.com/counties_by_population\n",
    "\n"
   ]
  },
  {
   "cell_type": "markdown",
   "id": "eoXTbgDxH5mt",
   "metadata": {
    "id": "eoXTbgDxH5mt"
   },
   "source": [
    "##Relation between Countywise rain and Crashes"
   ]
  },
  {
   "cell_type": "code",
   "execution_count": 27,
   "id": "UJvGB3k--LGL",
   "metadata": {
    "colab": {
     "base_uri": "https://localhost:8080/",
     "height": 415
    },
    "id": "UJvGB3k--LGL",
    "outputId": "a04528b5-8261-417d-e32a-93867d1880e1"
   },
   "outputs": [
    {
     "data": {
      "image/png": "[encoded data removed]",
      "text/plain": [
       "<Figure size 1152x288 with 1 Axes>"
      ]
     },
     "metadata": {
      "needs_background": "light"
     },
     "output_type": "display_data"
    }
   ],
   "source": [
    "plt.figure(figsize=(16,4))\n",
    "new_var = Super_Merge_df.groupby(['COUNTY_DESC','WEATHER_DESC']).filter(lambda x: (x[\"WEATHER_DESC\"] == \"Raining\").any())\n",
    "countywise_rain = new_var.groupby(['COUNTY_DESC','WEATHER_DESC']).size().sort_values(ascending = False)\n",
    "countywise_rain\n",
    "countywise_rain.plot(kind = \"bar\",width=0.9, xlabel = 'County Desc', ylabel = 'Accidents',title = \"County wise crashes when Raining\")\n",
    "\n",
    "plt.show()"
   ]
  },
  {
   "cell_type": "markdown",
   "id": "ll20FX3OIJKS",
   "metadata": {
    "id": "ll20FX3OIJKS"
   },
   "source": [
    "Counties with more rain had more number of crashes."
   ]
  },
  {
   "cell_type": "markdown",
   "id": "3iBl8_WvASPi",
   "metadata": {
    "id": "3iBl8_WvASPi"
   },
   "source": [
    "##Minimum speed limit recorded for crashes is '0'; maximum is '75' from years 2020 and 2021"
   ]
  },
  {
   "cell_type": "code",
   "execution_count": 28,
   "id": "033406f1",
   "metadata": {
    "colab": {
     "base_uri": "https://localhost:8080/",
     "height": 364
    },
    "id": "033406f1",
    "outputId": "2c5fdc56-b3a8-4cb2-81a1-8f660e57ae6e"
   },
   "outputs": [
    {
     "data": {
      "text/html": [
       "<div>\n",
       "<style scoped>\n",
       "    .dataframe tbody tr th:only-of-type {\n",
       "        vertical-align: middle;\n",
       "    }\n",
       "\n",
       "    .dataframe tbody tr th {\n",
       "        vertical-align: top;\n",
       "    }\n",
       "\n",
       "    .dataframe thead th {\n",
       "        text-align: right;\n",
       "    }\n",
       "</style>\n",
       "<table border=\"1\" class=\"dataframe\">\n",
       "  <thead>\n",
       "    <tr style=\"text-align: right;\">\n",
       "      <th></th>\n",
       "      <th>LATITUDE</th>\n",
       "      <th>LONGITUDE</th>\n",
       "      <th>WEATHER_CODE</th>\n",
       "      <th>RD_DIV_CODE</th>\n",
       "      <th>LANE_CODE</th>\n",
       "      <th>COLLISION_TYPE_CODE</th>\n",
       "      <th>JUNCTION_CODE</th>\n",
       "      <th>COUNTY_NO</th>\n",
       "      <th>LIGHT_CODE</th>\n",
       "      <th>YEAR</th>\n",
       "      <th>AREA_DAMAGED_CODE_MAIN</th>\n",
       "      <th>SPEED_LIMIT</th>\n",
       "      <th>VEH_YEAR</th>\n",
       "      <th>INJ_SEVER_CODE</th>\n",
       "    </tr>\n",
       "  </thead>\n",
       "  <tbody>\n",
       "    <tr>\n",
       "      <th>count</th>\n",
       "      <td>687369.000000</td>\n",
       "      <td>687369.000000</td>\n",
       "      <td>687369.000000</td>\n",
       "      <td>633559.000000</td>\n",
       "      <td>546688.000000</td>\n",
       "      <td>687369.000000</td>\n",
       "      <td>633559.000000</td>\n",
       "      <td>687351.000000</td>\n",
       "      <td>687369.000000</td>\n",
       "      <td>687375.000000</td>\n",
       "      <td>313779.000000</td>\n",
       "      <td>316330.000000</td>\n",
       "      <td>687375.000000</td>\n",
       "      <td>371041.000000</td>\n",
       "    </tr>\n",
       "    <tr>\n",
       "      <th>mean</th>\n",
       "      <td>39.137282</td>\n",
       "      <td>-76.735715</td>\n",
       "      <td>6.017284</td>\n",
       "      <td>4.742219</td>\n",
       "      <td>1.525184</td>\n",
       "      <td>20.594782</td>\n",
       "      <td>2.694113</td>\n",
       "      <td>12.995577</td>\n",
       "      <td>3.300926</td>\n",
       "      <td>2020.454087</td>\n",
       "      <td>12.722397</td>\n",
       "      <td>33.358439</td>\n",
       "      <td>869.682929</td>\n",
       "      <td>1.274385</td>\n",
       "    </tr>\n",
       "    <tr>\n",
       "      <th>std</th>\n",
       "      <td>0.310405</td>\n",
       "      <td>0.463484</td>\n",
       "      <td>8.829202</td>\n",
       "      <td>13.935665</td>\n",
       "      <td>0.818516</td>\n",
       "      <td>30.206445</td>\n",
       "      <td>10.057648</td>\n",
       "      <td>7.879731</td>\n",
       "      <td>11.418491</td>\n",
       "      <td>0.497888</td>\n",
       "      <td>19.380157</td>\n",
       "      <td>16.140948</td>\n",
       "      <td>1001.347143</td>\n",
       "      <td>0.654720</td>\n",
       "    </tr>\n",
       "    <tr>\n",
       "      <th>min</th>\n",
       "      <td>37.000000</td>\n",
       "      <td>-79.989756</td>\n",
       "      <td>0.000000</td>\n",
       "      <td>0.000000</td>\n",
       "      <td>1.000000</td>\n",
       "      <td>0.000000</td>\n",
       "      <td>0.000000</td>\n",
       "      <td>1.000000</td>\n",
       "      <td>0.000000</td>\n",
       "      <td>2020.000000</td>\n",
       "      <td>1.000000</td>\n",
       "      <td>0.000000</td>\n",
       "      <td>0.000000</td>\n",
       "      <td>1.000000</td>\n",
       "    </tr>\n",
       "    <tr>\n",
       "      <th>25%</th>\n",
       "      <td>38.968636</td>\n",
       "      <td>-76.929862</td>\n",
       "      <td>6.010000</td>\n",
       "      <td>1.000000</td>\n",
       "      <td>1.000000</td>\n",
       "      <td>3.000000</td>\n",
       "      <td>1.000000</td>\n",
       "      <td>3.000000</td>\n",
       "      <td>1.000000</td>\n",
       "      <td>2020.000000</td>\n",
       "      <td>6.000000</td>\n",
       "      <td>25.000000</td>\n",
       "      <td>0.000000</td>\n",
       "      <td>1.000000</td>\n",
       "    </tr>\n",
       "    <tr>\n",
       "      <th>50%</th>\n",
       "      <td>39.219000</td>\n",
       "      <td>-76.707674</td>\n",
       "      <td>6.010000</td>\n",
       "      <td>3.000000</td>\n",
       "      <td>1.000000</td>\n",
       "      <td>8.000000</td>\n",
       "      <td>1.000000</td>\n",
       "      <td>15.000000</td>\n",
       "      <td>1.000000</td>\n",
       "      <td>2020.000000</td>\n",
       "      <td>11.000000</td>\n",
       "      <td>35.000000</td>\n",
       "      <td>0.000000</td>\n",
       "      <td>1.000000</td>\n",
       "    </tr>\n",
       "    <tr>\n",
       "      <th>75%</th>\n",
       "      <td>39.339528</td>\n",
       "      <td>-76.571791</td>\n",
       "      <td>6.010000</td>\n",
       "      <td>4.000000</td>\n",
       "      <td>2.000000</td>\n",
       "      <td>17.000000</td>\n",
       "      <td>2.000000</td>\n",
       "      <td>18.000000</td>\n",
       "      <td>3.000000</td>\n",
       "      <td>2021.000000</td>\n",
       "      <td>12.000000</td>\n",
       "      <td>45.000000</td>\n",
       "      <td>2011.000000</td>\n",
       "      <td>1.000000</td>\n",
       "    </tr>\n",
       "    <tr>\n",
       "      <th>max</th>\n",
       "      <td>39.994802</td>\n",
       "      <td>-75.000747</td>\n",
       "      <td>99.000000</td>\n",
       "      <td>99.000000</td>\n",
       "      <td>12.000000</td>\n",
       "      <td>99.000000</td>\n",
       "      <td>99.000000</td>\n",
       "      <td>24.000000</td>\n",
       "      <td>99.000000</td>\n",
       "      <td>2021.000000</td>\n",
       "      <td>99.000000</td>\n",
       "      <td>75.000000</td>\n",
       "      <td>9999.000000</td>\n",
       "      <td>5.000000</td>\n",
       "    </tr>\n",
       "  </tbody>\n",
       "</table>\n",
       "</div>"
      ],
      "text/plain": [
       "            LATITUDE      LONGITUDE   WEATHER_CODE    RD_DIV_CODE  \\\n",
       "count  687369.000000  687369.000000  687369.000000  633559.000000   \n",
       "mean       39.137282     -76.735715       6.017284       4.742219   \n",
       "std         0.310405       0.463484       8.829202      13.935665   \n",
       "min        37.000000     -79.989756       0.000000       0.000000   \n",
       "25%        38.968636     -76.929862       6.010000       1.000000   \n",
       "50%        39.219000     -76.707674       6.010000       3.000000   \n",
       "75%        39.339528     -76.571791       6.010000       4.000000   \n",
       "max        39.994802     -75.000747      99.000000      99.000000   \n",
       "\n",
       "           LANE_CODE  COLLISION_TYPE_CODE  JUNCTION_CODE      COUNTY_NO  \\\n",
       "count  546688.000000        687369.000000  633559.000000  687351.000000   \n",
       "mean        1.525184            20.594782       2.694113      12.995577   \n",
       "std         0.818516            30.206445      10.057648       7.879731   \n",
       "min         1.000000             0.000000       0.000000       1.000000   \n",
       "25%         1.000000             3.000000       1.000000       3.000000   \n",
       "50%         1.000000             8.000000       1.000000      15.000000   \n",
       "75%         2.000000            17.000000       2.000000      18.000000   \n",
       "max        12.000000            99.000000      99.000000      24.000000   \n",
       "\n",
       "          LIGHT_CODE           YEAR  AREA_DAMAGED_CODE_MAIN    SPEED_LIMIT  \\\n",
       "count  687369.000000  687375.000000           313779.000000  316330.000000   \n",
       "mean        3.300926    2020.454087               12.722397      33.358439   \n",
       "std        11.418491       0.497888               19.380157      16.140948   \n",
       "min         0.000000    2020.000000                1.000000       0.000000   \n",
       "25%         1.000000    2020.000000                6.000000      25.000000   \n",
       "50%         1.000000    2020.000000               11.000000      35.000000   \n",
       "75%         3.000000    2021.000000               12.000000      45.000000   \n",
       "max        99.000000    2021.000000               99.000000      75.000000   \n",
       "\n",
       "            VEH_YEAR  INJ_SEVER_CODE  \n",
       "count  687375.000000   371041.000000  \n",
       "mean      869.682929        1.274385  \n",
       "std      1001.347143        0.654720  \n",
       "min         0.000000        1.000000  \n",
       "25%         0.000000        1.000000  \n",
       "50%         0.000000        1.000000  \n",
       "75%      2011.000000        1.000000  \n",
       "max      9999.000000        5.000000  "
      ]
     },
     "execution_count": 28,
     "metadata": {},
     "output_type": "execute_result"
    }
   ],
   "source": [
    "#Understanding the patterns of minimum, maximum, standard deviation and mean of the data\n",
    "Super_Merge_df.describe()"
   ]
  },
  {
   "cell_type": "markdown",
   "id": "NUP7zm71id-h",
   "metadata": {
    "id": "NUP7zm71id-h"
   },
   "source": [
    "##Crashes Distribution on weather in years 2020 and 2021:\n",
    "\"Raining\" is the weather that recorded many accidents. while the lowest is recorded in \"Blow sand soil, dirt\""
   ]
  },
  {
   "cell_type": "code",
   "execution_count": 29,
   "id": "ffXFWfbioE64",
   "metadata": {
    "colab": {
     "base_uri": "https://localhost:8080/",
     "height": 610
    },
    "id": "ffXFWfbioE64",
    "outputId": "77bfc77d-cda9-40f4-c868-6f0891c3aa2d"
   },
   "outputs": [
    {
     "data": {
      "image/png": "[encoded data removed]",
      "text/plain": [
       "<Figure size 1440x720 with 1 Axes>"
      ]
     },
     "metadata": {
      "needs_background": "light"
     },
     "output_type": "display_data"
    }
   ],
   "source": [
    "#Crashes Distribution on weather in years 2020 and 2021\n",
    "f,ax=plt.subplots(1,1,figsize=(20,10))\n",
    "sns.countplot(Super_Merge_df['WEATHER_DESC'],ax=ax,order=Super_Merge_df['WEATHER_DESC'].value_counts().index)\n",
    "plt.yticks(np.arange(0, max(Super_Merge_df['WEATHER_DESC'].value_counts().values)+5000, 5000))\n",
    "ax.set_title('Crashes Distribution on weather in years 2020 and 2021')\n",
    "plt.show()"
   ]
  },
  {
   "cell_type": "markdown",
   "id": "VdgS6KmsjIHt",
   "metadata": {
    "id": "VdgS6KmsjIHt"
   },
   "source": [
    "## Quarterly Analysis of Accidents in Rainy Weather"
   ]
  },
  {
   "cell_type": "code",
   "execution_count": 31,
   "id": "RrOnRhK11sWj",
   "metadata": {
    "colab": {
     "base_uri": "https://localhost:8080/",
     "height": 315
    },
    "id": "RrOnRhK11sWj",
    "outputId": "1a0b3e10-cbd0-4c6e-b298-2f17c62d6a75"
   },
   "outputs": [
    {
     "data": {
      "text/plain": [
       "<Figure size 432x288 with 0 Axes>"
      ]
     },
     "metadata": {},
     "output_type": "display_data"
    },
    {
     "data": {
      "image/png": "[encoded data removed]",
      "text/plain": [
       "<Figure size 432x288 with 2 Axes>"
      ]
     },
     "metadata": {
      "needs_background": "light"
     },
     "output_type": "display_data"
    }
   ],
   "source": [
    "#categorical variables in each quarters for the year 2020 and 2021\n",
    "\n",
    "year_2020_quarter = year_2020.QUARTER.value_counts()\n",
    "year_2021_quarter = year_2021.QUARTER.value_counts()\n",
    "\n",
    "\n",
    "\n",
    "\n",
    "\n",
    "#1,2,tight_layout=True,figsize=(18,6)\n",
    "fig  = plt.figure()\n",
    "fig2  =plt.figure()\n",
    "\n",
    "plt.subplot(1,2,1)\n",
    "plt.bar(year_2020_quarter.index, year_2020_quarter.values, width=0.2, color='b', align='center')\n",
    "\n",
    "plt.title(\"Reported accidents in 2020.\")\n",
    "plt.yticks(np.arange(0, max(year_2021_quarter.values)+10000, 10000))\n",
    "plt.xlabel('Quarters')\n",
    "plt.ylabel('Accidents Reported')\n",
    "\n",
    "plt.subplot(1,2,2)\n",
    "plt.bar(year_2021_quarter.index, year_2021_quarter.values, width=-0.2, color='orange', align='center')\n",
    "plt.title(\"Reported accidents in 2021.\")\n",
    "plt.yticks(np.arange(0, max(year_2021_quarter.values)+10000, 10000))\n",
    "plt.xlabel('Quarters')\n",
    "plt.ylabel('Accidents Reported')\n",
    "\n",
    "plt.tight_layout()\n",
    "plt.show()\n",
    "\n",
    "#Q1 of 2021 had way less crashes than the other two quarters\n",
    "#Way less crashes in Q2 of 2020 than the other quarters"
   ]
  },
  {
   "cell_type": "code",
   "execution_count": 32,
   "id": "iH89oL-SuN9F",
   "metadata": {
    "colab": {
     "base_uri": "https://localhost:8080/",
     "height": 398
    },
    "id": "iH89oL-SuN9F",
    "outputId": "7e0192ed-7ffa-41bd-f149-77b479656e9e"
   },
   "outputs": [
    {
     "data": {
      "image/png": "[encoded data removed]",
      "text/plain": [
       "<Figure size 1296x432 with 2 Axes>"
      ]
     },
     "metadata": {
      "needs_background": "light"
     },
     "output_type": "display_data"
    }
   ],
   "source": [
    "#categorical variables in each quarters for the year 2020 and 2021\n",
    "\n",
    "fig, ax = plt.subplots(1,2,tight_layout=True,figsize=(18,6))\n",
    "\n",
    "ax1 = sns.countplot(data=year_2020,x='QUARTER', hue='WEATHER_DESC',ax=ax[0],order = year_2020['QUARTER'].value_counts().index)\n",
    "ax1.set_xticklabels(ax1.get_xticklabels(), rotation=0)\n",
    "ax1.set_title('Weather in Different Quarters in 2020')\n",
    "ax1.legend(loc = 'upper right', title = 'WEATHER_DESC' )\n",
    "\n",
    "ax1.set_xlabel('Quarters')\n",
    "ax1.set_ylabel('Accidents Reported')\n",
    "\n",
    "ax2 = sns.countplot(data=year_2021,x='QUARTER', hue='WEATHER_DESC', ax=ax[1],order = year_2021['QUARTER'].value_counts().index)\n",
    "ax2.set_xticklabels(ax2.get_xticklabels(), rotation=0)\n",
    "ax2.set_title('Weather in Different Quarters in 2021')\n",
    "ax2.set_xlabel('Quarters')\n",
    "ax2.set_ylabel('Accidents Reported')\n",
    "\n",
    "\n",
    "fig.show()"
   ]
  },
  {
   "cell_type": "markdown",
   "id": "lnkQxKxfLiCC",
   "metadata": {
    "id": "lnkQxKxfLiCC"
   },
   "source": [
    "Note how much higher the Q1 2020 rainfall accidents reported are compared to the Q3 and Q4 \n",
    "\n",
    "Q1 2020 had less reports, but the amount of reports based on rainfall were much higher than the other quarters (almost a difference of 2000 compared to Q3/Q4 and 7000 compared to Q2)"
   ]
  },
  {
   "cell_type": "code",
   "execution_count": 33,
   "id": "PCfgh1Ycu0FO",
   "metadata": {
    "colab": {
     "base_uri": "https://localhost:8080/"
    },
    "id": "PCfgh1Ycu0FO",
    "outputId": "9e017459-eb36-4bec-a527-f81f76322d01"
   },
   "outputs": [
    {
     "data": {
      "text/plain": [
       "QUARTER  WEATHER_DESC\n",
       "Q1       Raining         16223\n",
       "Q3       Raining         13582\n",
       "Q4       Raining         13562\n",
       "Q2       Raining          9033\n",
       "dtype: int64"
      ]
     },
     "execution_count": 33,
     "metadata": {},
     "output_type": "execute_result"
    }
   ],
   "source": [
    "#2020\n",
    "\n",
    "new_var = year_2020.groupby(['QUARTER','WEATHER_DESC']).filter(lambda x: (x[\"WEATHER_DESC\"] == \"Raining\").any())\n",
    "year_2020_weather_quarter = new_var.groupby(['QUARTER','WEATHER_DESC']).size().sort_values(ascending = False)\n",
    "year_2020_weather_quarter"
   ]
  },
  {
   "cell_type": "code",
   "execution_count": 34,
   "id": "HcukJ_6Cu27U",
   "metadata": {
    "colab": {
     "base_uri": "https://localhost:8080/"
    },
    "id": "HcukJ_6Cu27U",
    "outputId": "0d048c7d-474d-4739-cb39-7c072da6f883"
   },
   "outputs": [
    {
     "data": {
      "text/plain": [
       "QUARTER  WEATHER_DESC\n",
       "Q2       Raining         11915\n",
       "Q3       Raining         11072\n",
       "Q1       Raining          8312\n",
       "dtype: int64"
      ]
     },
     "execution_count": 34,
     "metadata": {},
     "output_type": "execute_result"
    }
   ],
   "source": [
    "#2021\n",
    "\n",
    "new_var = year_2021.groupby(['QUARTER','WEATHER_DESC']).filter(lambda x: (x[\"WEATHER_DESC\"] == \"Raining\").any())\n",
    "year_2021_weather_quarter = new_var.groupby(['QUARTER','WEATHER_DESC']).size().sort_values(ascending = False)\n",
    "\n",
    "year_2021_weather_quarter\n",
    "\n",
    "#2000 more rain accidents in Q2 2021 than Q2 2020"
   ]
  },
  {
   "cell_type": "markdown",
   "id": "d_nR4YPHurRR",
   "metadata": {
    "id": "d_nR4YPHurRR"
   },
   "source": [
    "## Fatalities in the year when the condition is \"Raining\" in each quarters for the year 2020"
   ]
  },
  {
   "cell_type": "code",
   "execution_count": 35,
   "id": "QO5A0rLaum9X",
   "metadata": {
    "colab": {
     "base_uri": "https://localhost:8080/",
     "height": 295
    },
    "id": "QO5A0rLaum9X",
    "outputId": "0eedcfe6-f555-48d8-a33d-4307d348f126"
   },
   "outputs": [
    {
     "data": {
      "image/png": "[encoded data removed]",
      "text/plain": [
       "<Figure size 432x288 with 1 Axes>"
      ]
     },
     "metadata": {
      "needs_background": "light"
     },
     "output_type": "display_data"
    }
   ],
   "source": [
    "#2020\n",
    "\n",
    "new_var = year_2020.groupby(['QUARTER','INJ_SEVER_CODE']).filter(lambda x: (x[\"WEATHER_DESC\"] == \"Raining\").any() and (x[\"INJ_SEVER_CODE\"] == 5.0).any())\n",
    "year_2020_weather_quarter_injuries = new_var.groupby(['QUARTER','INJ_SEVER_CODE']).size()\n",
    "year_2020_weather_quarter_injuries.plot(kind = \"bar\", xlabel = \"Quarter\", ylabel = 'Fatalities',title = \"2020 Fatalities in each Quarter (only when Raining)\")\n",
    "plt.yticks(np.arange(0, max(year_2020_weather_quarter_injuries)+1, 10))\n",
    "plt.xticks([0,1,2,3],['Q1','Q2','Q3','Q4'], rotation=0)\n",
    "plt.show()\n",
    "#Weird quarter 1 of 2020 had a large quantity of rain, but not many fatalities what gives?"
   ]
  },
  {
   "cell_type": "markdown",
   "id": "lJkyr3IFvpBb",
   "metadata": {
    "id": "lJkyr3IFvpBb"
   },
   "source": [
    "###More fatalities than Q3 than Q4:\n",
    "Quarter 3 and Quarter 4 recorded many number of fatalities for the year 2020 and 2021 when the weather condition is \"Raining\""
   ]
  },
  {
   "cell_type": "code",
   "execution_count": 36,
   "id": "eR9YVBuIviuf",
   "metadata": {
    "colab": {
     "base_uri": "https://localhost:8080/",
     "height": 295
    },
    "id": "eR9YVBuIviuf",
    "outputId": "986a4dc4-c8cc-486b-c747-68d2650ae548"
   },
   "outputs": [
    {
     "data": {
      "image/png": "[encoded data removed]",
      "text/plain": [
       "<Figure size 432x288 with 1 Axes>"
      ]
     },
     "metadata": {
      "needs_background": "light"
     },
     "output_type": "display_data"
    }
   ],
   "source": [
    "new_var = year_2020.groupby(['QUARTER','INJ_SEVER_CODE','LIGHT_DESC']).filter(lambda x: (x[\"WEATHER_DESC\"] == \"Raining\").any() and (x[\"INJ_SEVER_CODE\"] == 5.0).any() and (x[\"LIGHT_DESC\"] != 'Daylight').any())\n",
    "new_var = new_var.groupby(['QUARTER','INJ_SEVER_CODE','LIGHT_DESC']).size().sort_values(ascending = True)\n",
    "\n",
    "\n",
    "Q1_dark = new_var['Q1'][5.0][\"Dark No Lights\"] + new_var['Q1'][5.0][\"Dark Lights On\"]\n",
    "Q2_dark = new_var['Q2'][5.0][\"Dark Lights On\"]\n",
    "Q3_dark = new_var['Q3'][5.0][\"Dark No Lights\"] + new_var['Q3'][5.0][\"Dark Lights On\"]\n",
    "Q4_dark = new_var['Q4'][5.0][\"Dark No Lights\"] + new_var['Q4'][5.0][\"Dark Lights On\"]\n",
    "\n",
    "data = [['Q1', Q1_dark ],['Q2', Q2_dark ], ['Q3', Q3_dark ], ['Q4', Q4_dark ]]\n",
    "\n",
    "new_df = pd.DataFrame(data, columns = ['Quarter', 'Fatalities'])\n",
    "\n",
    "plt.bar(new_df.Quarter.values,new_df.Fatalities.values)\n",
    "plt.xlabel('Quarters')\n",
    "plt.ylabel('Fatalities')\n",
    "plt.title('2020 Quarterly Fatalities (Dark/Raining)')\n",
    "plt.yticks(np.arange(0,max(new_df.Fatalities.values),5))\n",
    "\n",
    "plt.show()"
   ]
  },
  {
   "cell_type": "markdown",
   "id": "0ce6456b",
   "metadata": {},
   "source": [
    "# Time Analysis"
   ]
  },
  {
   "cell_type": "code",
   "execution_count": 31,
   "id": "fe772512",
   "metadata": {},
   "outputs": [],
   "source": [
    "year_2020['DATETIME'] = pd.to_datetime(year_2020['ACCIDENT_DATETIME'], format=\"%Y/%m/%d %H:%M:%S\")\n",
    "year_2020['DAYOFWEEK'] = year_2020['ACCIDENT_DATETIME'].dt.day_name()\n",
    "year_2020['DAY'] = year_2020['ACCIDENT_DATETIME'].dt.day\n",
    "year_2020['HOUR'] = year_2020['ACCIDENT_DATETIME'].dt.hour\n",
    "year_2020['DATE'] = year_2020['ACCIDENT_DATETIME'].dt.date\n",
    "year_2020['TIME'] = year_2020['ACCIDENT_DATETIME'].dt.time\n",
    "\n",
    "year_2021['DATETIME'] = pd.to_datetime(year_2021['ACCIDENT_DATETIME'], format=\"%Y/%m/%d %H:%M:%S\")\n",
    "year_2021['DAYOFWEEK'] = year_2021['ACCIDENT_DATETIME'].dt.day_name()\n",
    "year_2021['DAY'] = year_2021['ACCIDENT_DATETIME'].dt.day\n",
    "year_2021['HOUR'] = year_2021['ACCIDENT_DATETIME'].dt.hour\n",
    "year_2021['DATE'] = year_2021['ACCIDENT_DATETIME'].dt.date\n",
    "year_2021['TIME'] = year_2021['ACCIDENT_DATETIME'].dt.time\n",
    "\n",
    "year_2021['MONTH'] = year_2021['ACCIDENT_DATETIME'].dt.month_name()\n",
    "year_2020['MONTH'] = year_2020['ACCIDENT_DATETIME'].dt.month_name()"
   ]
  },
  {
   "cell_type": "code",
   "execution_count": 52,
   "id": "5ed8eabe",
   "metadata": {},
   "outputs": [
    {
     "data": {
      "image/png": "[encoded data removed]",
      "text/plain": [
       "<Figure size 1296x432 with 2 Axes>"
      ]
     },
     "metadata": {
      "needs_background": "light"
     },
     "output_type": "display_data"
    }
   ],
   "source": [
    "#1)Crashes in the year 2020 for different days in a week\n",
    "fig, ax =plt.subplots(1,2,tight_layout=True,figsize=(18,6))\n",
    "ax1 = sns.countplot(data=year_2020,x='DAYOFWEEK', ax=ax[0],order = year_2020['DAYOFWEEK'].value_counts().index)\n",
    "ax1.set_xticklabels(ax1.get_xticklabels(), rotation=90)\n",
    "ax1.tick_params(labelsize=15)\n",
    "plt.xlabel('Weekly',fontsize=20)\n",
    "ax1.set_title('Crashes in different days in a week of year 2020',fontsize=25)\n",
    "\n",
    "#2)Crashes in the year 2021 for different days in a week\n",
    "ax2 = sns.countplot(data=year_2021,x='DAYOFWEEK', ax=ax[1],order = year_2021['DAYOFWEEK'].value_counts().index)\n",
    "ax2.set_xticklabels(ax2.get_xticklabels(), rotation=90)\n",
    "ax2.tick_params(labelsize=15)\n",
    "ax2.set_title('Crashes in different days in a week of year 2021',fontsize=25)\n",
    "\n",
    "fig.show()"
   ]
  },
  {
   "cell_type": "code",
   "execution_count": 55,
   "id": "d4a5a070",
   "metadata": {},
   "outputs": [
    {
     "data": {
      "image/png": "[encoded data removed]",
      "text/plain": [
       "<Figure size 1008x432 with 1 Axes>"
      ]
     },
     "metadata": {
      "needs_background": "light"
     },
     "output_type": "display_data"
    },
    {
     "data": {
      "image/png": "[encoded data removed]",
      "text/plain": [
       "<Figure size 1008x432 with 1 Axes>"
      ]
     },
     "metadata": {
      "needs_background": "light"
     },
     "output_type": "display_data"
    }
   ],
   "source": [
    "##Crashes in the year 2020 monthly wise\n",
    "fig, ax=plt.subplots(figsize=(14,6))\n",
    "year_2020['MONTH'].value_counts(ascending=False).plot.bar(width=0.5,edgecolor='k',align='center',linewidth=2)\n",
    "plt.xlabel('Monthly',fontsize=20)\n",
    "plt.ylabel('Number of crashes',fontsize=20)\n",
    "ax.tick_params(labelsize=20)\n",
    "plt.title('Crashes in different months in a year 2021',fontsize=25)\n",
    "plt.grid()\n",
    "plt.ioff()\n",
    "\n",
    "##Crashes in the year 2021 monthly wise\n",
    "fig, ax=plt.subplots(figsize=(14,6))\n",
    "year_2021['MONTH'].value_counts(ascending=False).plot.bar(width=0.5,edgecolor='k',align='center',linewidth=2)\n",
    "plt.xlabel('Monthly',fontsize=20)\n",
    "plt.ylabel('Number of crashes',fontsize=20)\n",
    "ax.tick_params(labelsize=20)\n",
    "plt.title('Crashes in different months in a year 2021',fontsize=25)\n",
    "plt.grid()\n",
    "plt.ioff()"
   ]
  },
  {
   "cell_type": "markdown",
   "id": "TMAk_CAG4zcX",
   "metadata": {
    "id": "TMAk_CAG4zcX"
   },
   "source": [
    "# **Insight Summary**"
   ]
  },
  {
   "cell_type": "markdown",
   "id": "r_b07b-2aKlF",
   "metadata": {
    "id": "r_b07b-2aKlF"
   },
   "source": [
    "**Location Analysis**\n",
    "\n",
    "The counties where there was more rainfall had more crashes, a clear indication of how weather in this rain has an impact on crashes."
   ]
  },
  {
   "cell_type": "markdown",
   "id": "a9HFI1nKbuzZ",
   "metadata": {
    "id": "a9HFI1nKbuzZ"
   },
   "source": [
    "**Minimum and maximum speedlimit for crashes**\n",
    "\n",
    "We would in general think that most crashes happen under high speeds but it is interesting to note that it is not always the case."
   ]
  },
  {
   "cell_type": "markdown",
   "id": "6f47627d",
   "metadata": {},
   "source": [
    "**Time Analysis**\n",
    "\n",
    "More Number of accidents were reporting on Weekends "
   ]
  },
  {
   "cell_type": "markdown",
   "id": "LAZE03-TckAP",
   "metadata": {
    "id": "LAZE03-TckAP"
   },
   "source": [
    "**Crashes distribution on weather**\n",
    "\n",
    "Adding to the location analysis, in maryland as a whole there were more crashes when the weather was \"raining\" and least when it was \"Blow sand soil, dirt\""
   ]
  },
  {
   "cell_type": "markdown",
   "id": "e4cVhxTkEf9H",
   "metadata": {
    "id": "e4cVhxTkEf9H"
   },
   "source": [
    "**Quarterly Fatalities when the condition is Raining and Night time in 2020**\n",
    "*   Q3 and Q4 2020 much higher than Q1 2020 once again\n",
    "*   Raining and Night time pattern the same as the fatality table, meaning that rain and night time driving go hand in hand\n",
    "*   Two dangerous conditions making fatalities rise is a problem, needs to be adressed\n",
    "\n",
    "\n",
    "\n"
   ]
  },
  {
   "cell_type": "markdown",
   "id": "dcBmaZ51HC39",
   "metadata": {
    "id": "dcBmaZ51HC39"
   },
   "source": [
    "**Quarterly Fatalities when the condition is Raining and Night time in 2020**\n",
    "*   Q3 and Q4 2020 much higher than Q1 2020 once again\n",
    "*   Raining and Night time pattern the same as the fatality table, meaning that rain and night time driving go hand in hand\n",
    "*   Two dangerous conditions making fatalities rise is a problem, needs to be adressed\n",
    "\n",
    "\n",
    "\n"
   ]
  },
  {
   "cell_type": "markdown",
   "id": "-fVJL_HPHFOy",
   "metadata": {
    "id": "-fVJL_HPHFOy"
   },
   "source": [
    "**Quarterly Fatalities when the condition is Raining and Night time in 2020**\n",
    "*   Q3 and Q4 2020 much higher than Q1 2020 once again\n",
    "*   Raining and Night time pattern the same as the fatality table, meaning that rain and night time driving go hand in hand\n",
    "*   Two dangerous conditions making fatalities rise is a problem, needs to be adressed\n",
    "\n",
    "\n",
    "\n"
   ]
  },
  {
   "cell_type": "markdown",
   "id": "jW7Gmxi7HHK-",
   "metadata": {
    "id": "jW7Gmxi7HHK-"
   },
   "source": [
    "**Quarterly Fatalities when the condition is Raining and Night time in 2020**\n",
    "*   Q3 and Q4 2020 much higher than Q1 2020 once again\n",
    "*   Raining and Night time pattern the same as the fatality table, meaning that rain and night time driving go hand in hand\n",
    "*   Two dangerous conditions making fatalities rise is a problem, needs to be adressed\n",
    "\n",
    "\n",
    "\n"
   ]
  },
  {
   "cell_type": "markdown",
   "id": "98UtvPrveZFy",
   "metadata": {
    "id": "98UtvPrveZFy"
   },
   "source": [
    "# **Reasoning and Conclusion**"
   ]
  },
  {
   "cell_type": "markdown",
   "id": "w6QYGofoAmzM",
   "metadata": {
    "id": "w6QYGofoAmzM"
   },
   "source": [
    "\n",
    "\n",
    "\n",
    "*   Pandemic's influence on total number of accident reports.\n",
    "*   Maryland's dominant weather under crashes being rain.\n",
    "\n",
    "\n",
    "*   Rainy weather is not an outright cause for driving related deaths.\n",
    "*   Rainy weather's lethality when paired with driving at night.\n",
    "\n",
    "*   Possible influence from summer break in Q3.\n",
    "*   Possible influence from the holidays (Halloween, Thanksgiving, Christmas) in Q4.\n",
    "\n",
    "\n",
    "\n",
    "\n",
    "\n",
    "\n",
    "\n",
    "\n"
   ]
  }
 ],
 "metadata": {
  "colab": {
   "collapsed_sections": [],
   "name": "DATA_601_FINAL_NOTEBOOK_Team Capricorn.ipynb",
   "provenance": []
  },
  "kernelspec": {
   "display_name": "Python 3",
   "language": "python",
   "name": "python3"
  },
  "language_info": {
   "codemirror_mode": {
    "name": "ipython",
    "version": 3
   },
   "file_extension": ".py",
   "mimetype": "text/x-python",
   "name": "python",
   "nbconvert_exporter": "python",
   "pygments_lexer": "ipython3",
   "version": "3.8.8"
  }
 },
 "nbformat": 4,
 "nbformat_minor": 5
}
